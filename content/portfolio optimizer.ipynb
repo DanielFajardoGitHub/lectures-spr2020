{
 "cells": [
  {
   "cell_type": "code",
   "execution_count": 1,
   "metadata": {},
   "outputs": [],
   "source": [
    "import scipy.optimize\n",
    "from pandas import *\n",
    "from numpy import *"
   ]
  },
  {
   "cell_type": "code",
   "execution_count": 2,
   "metadata": {},
   "outputs": [],
   "source": [
    "##################################################################\n",
    "# First, some helper files from \n",
    "#https://github.com/omartinsky/QuantAndFinancial/blob/master/black_litterman/black_litterman.ipynb\n",
    "##################################################################\n",
    "\n",
    "# Calculates portfolio mean return\n",
    "def port_mean(W, R):\n",
    "    return sum(R * W)\n",
    "\n",
    "# Calculates portfolio variance of returns\n",
    "def port_var(W, C):\n",
    "    return dot(dot(W, C), W)\n",
    "\n",
    "# Combination of the two functions above - mean and variance of returns calculation\n",
    "def port_mean_var(W, R, C):\n",
    "    return port_mean(W, R), port_var(W, C)"
   ]
  },
  {
   "cell_type": "code",
   "execution_count": 3,
   "metadata": {},
   "outputs": [],
   "source": [
    "##################################################################\n",
    "#This comes from https://www.quantandfinancial.com/2013/07/mean-variance-portfolio-optimization.html \n",
    "##################################################################\n",
    "\n",
    "# define the utility function\n",
    "def fitness(W, R, C, rf, delta):\n",
    "    # calculate mean/variance of the portfolio\n",
    "    mean, var = port_mean_var(W, R, C)  \n",
    "\n",
    "    # utility function = Sharpe ratio\n",
    "    #util = (mean - rf) / sqrt(var)      \n",
    "    #return 1/util                   # invert bc the function below minimizes, not maximizes\n",
    "                                     # or just multiply by negative 1\n",
    "\n",
    "    # mean-var utility\n",
    "    util = mean - (delta/2) * var\n",
    "    return -util                     # max(utility) = minimize(-utility)\n",
    "\n",
    "# Given risk-free rate, assets returns and covariances, this function calculates\n",
    "# weights of tangency portfolio with respect to sharpe ratio maximization\n",
    "def solve_weights(R, C, rf, delta):\n",
    "        \n",
    "    # a lil more set up\n",
    "    n = len(R)                          # number of risky assets\n",
    "    W = np.ones([n])/n                     # start with equal weights\n",
    "    \n",
    "    # constraints on the portfolio weights (replace with None to remove)\n",
    "    b_ = [(0.,1.) for i in range(n)]    # weights between 0%..100%. \n",
    "                                        # No leverage, no shorting     \n",
    "\n",
    "    # overall portfolio constraint \n",
    "    c_ = ({'type':'eq', 'fun': \n",
    "           lambda W: sum(W)-1. })       # Sum of weights = 100%\n",
    "    \n",
    "    optimized = scipy.optimize.minimize(fitness, W, (R, C, rf, delta), \n",
    "                method='SLSQP', constraints=c_, bounds=b_)  \n",
    "    \n",
    "    if not optimized.success: \n",
    "        raise BaseException(optimized.message)\n",
    "        \n",
    "    return optimized.x  # Return optimized weights"
   ]
  },
  {
   "cell_type": "code",
   "execution_count": 4,
   "metadata": {},
   "outputs": [
    {
     "name": "stdout",
     "output_type": "stream",
     "text": [
      "weight [0. 1.]\n",
      "mu,var (0.15, 0.4)\n",
      "util   -0.13\n",
      "\n",
      "\n",
      " ======================================== \n",
      " Low risk aversion --> all equity portfolio\n",
      " ========================================\n",
      " weights:  [0. 1.]\n",
      "\n",
      "\n",
      " ======================================== \n",
      " High risk aversion --> all debt portfolio\n",
      " ========================================\n",
      " weights:  [1. 0.]\n",
      "\n",
      "\n",
      " ======================================== \n",
      " In the middle --> mixed portfolio\n",
      " ========================================\n",
      " weights:  [0.5 0.5]\n"
     ]
    }
   ],
   "source": [
    "##################################################################\n",
    "# Example (you'll need to estimate R and C in practice, here fake)\n",
    "##################################################################\n",
    "\n",
    "R = [.08,.15]                          # bond and equity\n",
    "C = [[.05,.7],[.7,.40]]                # covariance matrix\n",
    "rf = .01                               # only matters with sharpe utility, but still have to pick a # for mean-var\n",
    "delta = .1                             # risk aversion parameter\n",
    "x= solve_weights(R, C, rf, delta)\n",
    "print(\"weight\",x)\n",
    "print(\"mu,var\",port_mean_var(x, R, C))\n",
    "print(\"util  \",fitness(x, R, C, rf, delta))\n",
    "\n",
    "print('\\n\\n','='*40,'\\n Low risk aversion --> all equity portfolio\\n','='*40)\n",
    "delta = .1                             # risk aversion parameter\n",
    "x= solve_weights(R, C, rf, delta)\n",
    "print(\" weights: \",x)\n",
    "\n",
    "print('\\n\\n','='*40,'\\n High risk aversion --> all debt portfolio\\n','='*40)\n",
    "delta = 100                             # risk aversion parameter\n",
    "x= solve_weights(R, C, rf, delta)\n",
    "print(\" weights: \",x)\n",
    "\n",
    "\n",
    "print('\\n\\n','='*40,'\\n In the middle --> mixed portfolio\\n','='*40)\n",
    "delta = .4                             # risk aversion parameter\n",
    "x= solve_weights(R, C, rf, delta)\n",
    "print(\" weights: \",x)\n"
   ]
  }
 ],
 "metadata": {
  "kernelspec": {
   "display_name": "Python 3",
   "language": "python",
   "name": "python3"
  },
  "language_info": {
   "codemirror_mode": {
    "name": "ipython",
    "version": 3
   },
   "file_extension": ".py",
   "mimetype": "text/x-python",
   "name": "python",
   "nbconvert_exporter": "python",
   "pygments_lexer": "ipython3",
   "version": "3.7.6"
  }
 },
 "nbformat": 4,
 "nbformat_minor": 4
}
