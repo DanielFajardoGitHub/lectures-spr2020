{
 "cells": [
  {
   "cell_type": "markdown",
   "metadata": {},
   "source": [
    "# Let's start learning how to work in Jupyter\n",
    "\n",
    "Python is \n",
    "* general-purpose programming language conceived in 1989 by Dutch programmer Guido van Rossum.\n",
    "* free and open source\n",
    "* has simple syntax\n",
    "* object oriented: EVERYTHING IS AN OBJECT\n",
    "* popular among the largest tech firms in the world: Google, Amazon, Uber, Dropboz, Reddit, Youtube, ...\n",
    "* popular in the scientific community: academia, NASA, CERN, Wall Street, ...\n",
    " \n",
    "\n",
    "Jupyter (Notebook) aka IPython\n",
    "* is one way to write and execute Python code\n",
    "* is browser based\n",
    "* results in files that **are easy to share** and rerun (and thus easy to collaborate with)\n",
    "* allows users to mix code and formatted text and mathematical expressions (and thus produces elegant and easy-to-digest reports)\n",
    "* is great for new coders\n",
    "\n",
    "In fact, almost every page on this website is a Jupyter Notebook! Notice how there are headers, full text formatting, media inserts, and also code snippets and output. This means readers see output immediately after the relevant code, and makes understanding code much easier. \n"
   ]
  },
  {
   "cell_type": "markdown",
   "metadata": {},
   "source": [
    "# Outline\n",
    "\n",
    "In the next week, we are going to get a “functional” start on Python, i.e. get just enough practice on essential actions so that we can cover later lessons. Only practice and time can make you comfortable and fast with Python. You’ll get much more practice just going through classes as this semester proceeds, so when you are frustrated, or stuck, just remember to keep going! And consult the resources and help sections [on this page](#Resources,-help,-and-documentation) and on the [homepage](https://ledatascifi.github.io/studentresourcevert/resource-landing.html).\n",
    "\n",
    "1. Starting our first Python file in Jupyter\n",
    "1. Jupyter: working with cells and inside cells\n",
    "1. [THE MOST IMPORTANT PART OF THIS PAGE](#Resources,-help,-and-documentation)\n",
    "1. A simple program\n",
    "1. Working with files\n",
    "1. Tidying up\n",
    "\n",
    "**BUT FIRST! HAVE YOU FILLED OUT [THIS SURVEY](https://forms.gle/brbs4DbAhzZqP7bj9)? IF NOT, DO SO NOW!**\n",
    "\n"
   ]
  },
  {
   "cell_type": "markdown",
   "metadata": {},
   "source": [
    "# Opening Jupyter and Basic Usage\n",
    "\n",
    "Did you download and install Anaconda? If yes, we can proceed. If not, go back to the lecture files and follow the instructions so that you can follow along. (And if you haven't, then you aren't doing the after class work!)\n",
    "\n",
    "**So, let's write our first file!**\n",
    "\n",
    "## Opening Jupyter, and choosing your \"working directory\"\n",
    "\n",
    "Your options:\n",
    "1. Windows: Open Anaconda Powershell Prompt and type `jupyter notebook` \n",
    "1. Mac: Open Terminal and type `jupyter notebook` \n",
    "1. Either: Open Anaconda Navigator (which opens a menu of programs) and then select Jupyter\n",
    "\n",
    "**Practice: Try one of these!** All of these open a new tab on your browser:\n"
   ]
  },
  {
   "cell_type": "markdown",
   "metadata": {},
   "source": [
    "![](img/open-notebook.png)"
   ]
  },
  {
   "cell_type": "markdown",
   "metadata": {},
   "source": [
    "## How I open Jupyter Notebook:\n",
    "Navigating from the default location Jupyter where opens to a folder/director where a python file actually is, or where you want it to be, can be annoying. So what I usually do to open Jupyter is:\n",
    "1. Navigate on your computer to the folder you want to work in/where the Py file is. Often, you'll create a new folder specific to the project. Let's call today's project \"FirstPythonCode\" and create a folder for it. You can put it wherever you want. \n",
    "2. Find the full path to the folder, e.g. `C:\\Users\\Don\\FirstPythonCode`\n",
    "3. In Terminal or Powershell type `jupyter notebook --notebook-dir \"C:\\Users\\Don\\FirstPythonCode\"` \n",
    "    - Here the `--notebook-dir` means that we are opening Jupyter but want to choose the notebook location, and then we type the location.\n",
    "    - I have this command (`jupyter notebook --notebook-dir`) pasted into a note on my computer so I can quickly copy and paste it into the shell. \n",
    "\n",
    "**Practice:** \n",
    "- _**Create a folder on your computer called \"FirstPythonCode\"**_ Wherever you want should be fine. \n",
    "- _**Open Jupyter Notebook so that you can see files in that location.**_ You can either navigate within the browser by point-and-click navigation (methods 1-3 above), or use my technique to open Jupyter directly to the location.\n",
    "- _**Click on \"New\" and \"Python 3\" to create a new notebook.**_\n",
    "- _**Stop here so we can discuss what you're seeing.**_\n",
    "\n",
    "**We are going to do a lot of livecoding together in class. Save these files as they are at the end of class, because they are an important chunk of your participation grade.** [Shall we talk about participation quickly?](https://ledatascifi.github.io/participation/participation.html)\n",
    "\n",
    "A sample notebook will look like this:\n"
   ]
  },
  {
   "cell_type": "markdown",
   "metadata": {},
   "source": [
    "![](img/firstbook-notes1.png)"
   ]
  },
  {
   "cell_type": "markdown",
   "metadata": {},
   "source": [
    "## Jupyter Basics\n",
    "\n",
    "Let's do the following:"
   ]
  },
  {
   "cell_type": "markdown",
   "metadata": {
    "tags": [
     "popout"
    ]
   },
   "source": [
    "<br>\n",
    "<br>\n",
    "<br>\n",
    "<br>\n",
    "\n",
    "**Leaving comments in the code is important!** While [good, smart code](https://web.stanford.edu/~gentzkow/research/CodeAndData.xhtml) tries to reduce the use of comments by writing code so obvious that it is \"self-documenting\" (I'll explain why later), **for now... you should err on the side of adding MORE comments**. Why? If you need to take a break and come back at a later point, comments will help to quickly bring you up to speed if you forgot why you put in a particular line of code. Getting in the habit of using comments is smart.\n",
    "<br>\n",
    "<br>\n",
    "\n",
    "You'll become more discerning about comments as you progress. Two articles about how and when to use comments: [this link](https://realpython.com/python-comments-guide/#why-commenting-your-code-is-so-important) and [this link](https://realpython.com/documenting-python-code/#why-documenting-your-code-is-so-important)\n"
   ]
  },
  {
   "cell_type": "markdown",
   "metadata": {},
   "source": [
    "1. Save that file: Give it a name at the top: \"In Class-Lecture 2\". Now look in the folder on your computer - it should be there! **CHECK-IN: Do you see it?** Note that under the \"File\" menu you can\n",
    "    - Make a copy\n",
    "    - \"Save As\" (give it a new name/location, and the existing file will remain where it it)\n",
    "    - \"Save and checkpoint\". You can \"roll back\" to this checkpoint later. Useful while exploring!\n",
    "2. Let's type some Python in the notebook \n",
    "    - Copy the first 3 lines in example above. Do you notice the syntax coloring?\n",
    "    - The hashtags/pound signs are the \"comment signal\". They tell Python to ignore everything to the right of it on that line, so that you can write notes to anyone looking at the code.\n",
    "3. Run that code:\n",
    "    - `CTRL+ENTER` will run the code in the active cell\n",
    "    - \"Kernel\" menu > \"Restart and Clear Output\" will clear the workspace (so Python will forget all variables and objects in memory for this session) and then \"Cell\" menu > \"Run All\" will rerun everything. **YOU MUST DO THIS ON EVERY FILE WHEN YOU ARE DONE TO ENSURE THAT THE CODE WORKS IN ORDER AND CAN BE REPRODUCED BY OTHERS!**\n",
    "4. Add a new cell below by _**clicking**_ \"Insert\" > \"Insert Cell Below\".\n",
    "5. Add a new cell below by _**keyboard shortcut**_. To do that, we need a quick disgression on Jupyter's modal editing system. Check out the popout to the right. "
   ]
  },
  {
   "cell_type": "markdown",
   "metadata": {
    "tags": [
     "popout"
    ]
   },
   "source": [
    "_**Jupyter notebook uses a modal editing system.**_\n",
    "\n",
    "This means that the effect of typing at the keyboard depends on which mode you are in. The two modes are\n",
    "\n",
    "1. When you are typing inside a cell, you are in **Edit mode**, and there is a green border around that cell. **Switch into edit mode by hitting `Enter` or double clicking in the cell.**\n",
    "2. **Command mode** means that keystrokes are interpreted by Jupyter as commands (e.g. insert a new cell). When you are in command mode, the green border is replaced by a grey/blue border. **Hit `ESC` to switch to command mode.**\n",
    "\n",
    "The modal behavior of the Jupyter notebook is a little tricky at first but very efficient when you get used to it.   "
   ]
  },
  {
   "cell_type": "markdown",
   "metadata": {},
   "source": [
    " .\n",
    " \n",
    " \n",
    " .\n",
    " \n",
    " .\n",
    " \n",
    " .\n",
    " \n",
    " .\n",
    " \n",
    " .\n",
    " \n",
    " .\n",
    " \n",
    " .\n",
    " \n",
    " .\n",
    " \n",
    " .\n",
    " \n",
    " .\n",
    " \n",
    " .\n",
    " \n",
    "\n",
    "So switch to command mode (hit `ESC`) and insert the new cell below by typing `b`.\n",
    "\n",
    " <ol start=\"6\">\n",
    "  <li>Switch the inserted cell to markdown (via the markdown/code drop down box) and write several lines.</li>\n",
    "  <li>Split the markdown cell in half and insert a cell in the middle of those halves. </li>\n",
    "     <ul>\n",
    "         <li><s>How do you split a cell in half?</s> Better question: Where do you look for an answer about how to do that? </li>\n",
    "         <li><b>This is a good time to explore!</b> Take the \"user interface tour\" under help, then look through the various menus, check out the Keyboard Shortcuts (under the help menu), and then search through the \"command palette\" (which looks like a keyboard icon at the right side of the Notebook Toolbar). <b>The command palette is very useful because you can search for commands!</b> Return to the shortcut menu and command palette often!!!</li>\n",
    "    </ul>     \n",
    " </ol>\n",
    "  <ol start=\"8\">\n",
    "  <li>Switch that middle cell to \"code\" mode via keyboard shortcuts. </li>\n",
    "  <li>Add a cell at the bottom of the notebook, and then delete it: <code>ESC</code> to go to command mode and then <code>D</code>,<code>D</code> (hit the \"d\" button twice).</li>    \n",
    "</ol> \n",
    "\n",
    "   \n",
    "## Class poll? How did we do? 9/9?\n",
    "\n",
    "If so, we're in great shape! Obviously, we will learn much more going forward, but you have enough to play around with Jupyter now. I **highly** recommend doing some introductory Python tutorials over the weekend. The bottom of this page lists some great places to start. \n"
   ]
  },
  {
   "cell_type": "markdown",
   "metadata": {},
   "source": [
    "# Resources, help, and documentation\n",
    "\n",
    "The [help and documentation](https://jakevdp.github.io/PythonDataScienceHandbook/01.01-help-and-documentation.html) section of the \"Python Data Science Handbook\" by Jake VanderPlas begins by saying:\n",
    "\n",
    "> **If you read no other section in this chapter, read this one: I find the tools discussed here to be the most transformative contributions of IPython to my daily workflow.**\n",
    ">\n",
    "> When a technologically-minded person is asked to help a friend, family member, or colleague with a computer problem, most of the time it's less a matter of knowing the answer as much as knowing how to quickly find an unknown answer. In data science it's the same: searchable web resources such as online documentation, mailing-list threads, and StackOverflow answers contain a wealth of information, even (especially?) if it is a topic you've found yourself searching before. ~~Being an effective practitioner of data science~~ Being efficient in many aspects of life these days is less about memorizing the tool or command you should use for every possible situation, and more about learning to effectively find the information you don't know, whether through a web search engine or another means.\n",
    ">\n",
    "> One of the most useful functions of IPython/Jupyter is to shorten the gap between the user and the type of documentation and search that will help them do their work effectively. While web searches still play a role in answering complicated questions, an amazing amount of information can be found through IPython alone.\n",
    "\n",
    "The [official IPython documentation](https://ipython.readthedocs.io/en/stable/interactive/tutorial.html#the-four-most-helpful-commands) has the same gist. So let's call the **\"Five most helpful commands in IPython**:\n",
    "\n",
    "| command | description | Example |\n",
    "| --- | --- | --- |\n",
    "| ? | Python documentation | `len?` |\n",
    "| %quickref | Quick reference. | . |\n",
    "| help(<on-what>) | Python’s own help system. | `help(len)` |\n",
    "| object? | Details about ‘object’, use ‘object??’ for extra details | my_list? |\n",
    "| < TAB \\> | Auto-completion menus (REALLY HELPFUL!)  | `import ` < TAB \\> |\n",
    "   \n",
    "[Python Data Science Handbook](https://jakevdp.github.io/PythonDataScienceHandbook/01.01-help-and-documentation.html#Tab-completion-of-object-contents) elaborates nicely on `?` and tab completion.\n",
    "\n",
    "If we have time, click that last link and check out tab completion. If not, everyone should do this after class. I find tab-completion absolutely essential, and think you'll be happy to know it!\n",
    "\n"
   ]
  },
  {
   "cell_type": "markdown",
   "metadata": {},
   "source": [
    "# A simple program: importing data and packages\n",
    "\n",
    "The following program could be written as a basic .py file like it is <a href=\"https://github.com/LeDataSciFi/lectures-spr2020/blob/master/content/01/a-simple-program-pyonly.py\" target=\"_blank\">here</a>. To save results from it, we'd have to output pdfs of figures, text files for table, or just save the entire run with an ugly <a href=\"python-files/a-simple-program-pyonly-log.html\" target=\"_blank\">log file like this</a> (I saved this to an HTML file.) Yuck! There must be a better way!\n",
    "\n",
    "![](https://media.giphy.com/media/xsATxBQfeKHCg/giphy.gif)\n",
    "\n",
    "![](https://i.imgur.com/J0DrzrF.gif)\n",
    "![](https://i.imgur.com/VSz1YQy.gif)\n",
    "![](https://media.giphy.com/media/zvYnqgajTM6MU/giphy.gif)\n",
    "\n",
    "And the Sistine Chapel of hysteric infomercial fails\n",
    "\n",
    ".\n",
    "\n",
    ".\n",
    "\n",
    ".\n",
    "\n",
    ".\n",
    "\n",
    ".\n",
    "\n",
    ".\n",
    "\n",
    ".\n",
    "\n",
    ".\n",
    "\n",
    ".\n",
    "\n",
    ".\n",
    "\n",
    ".\n",
    "![](https://media.giphy.com/media/3oEduNF7DlpxgcHVJe/giphy.gif)\n",
    "\n",
    "Put that in the Guggenheim. \n",
    "\n",
    "**Now, let's take a quick look at [a simple program](python-files/02a-a-simple-program.html) and then come right back here. If you want to download the [raw unrendered ipynb file here](https://raw.githubusercontent.com/LeDataSciFi/lectures-spr2020/master/content/01/python-files/02a-a-simple-program.ipynb), you can load this into a Jupyter session and manipulate it. \n"
   ]
  },
  {
   "cell_type": "markdown",
   "metadata": {},
   "source": [
    "## Installing libraries \n",
    "\n",
    "The Anaconda distribution we installed also installed most of the key data science Python libraries/packages we will use throughout the semester. In the event you need to install a new package to add functionality to Python, e.g. `matplotlib` (which you already have!), you can \n",
    "\n",
    "1. Open Anaconda Powershell (Windows) or Terminal (Mac) or Jupyter (yes!)\n",
    "2. `pip install matplotlib` will install the package.  Use `%pip install matplotlib` if you're in Jupyter. \n",
    "\n",
    "Some package can't be `pip` installed, but hopefully you won't need to deal with that this semester, so I'm going to skip discussion of such package installs. "
   ]
  },
  {
   "cell_type": "markdown",
   "metadata": {},
   "source": [
    "# Working with files \n",
    "\n",
    "Jupyter files have a `.ipynb` file extension. The standard Python file extension is `.py` and you will sometimes want to run code in (or the entire code in) a `py` file. You can either:\n",
    "1. Open the .py file itself and **execute it directly in Jupyter** \n",
    "2. Open the .py file in Jupyter or a text editor, and then **copy and paste the code into a Jupyter cell** (reminder: make sure it's a \"code\" cell, not a \"Markdown\" cell!)\n",
    "3. **Run it in Jupyter with a magic command**. ([More on magic commands here](https://jakevdp.github.io/PythonDataScienceHandbook/01.03-magic-commands.html).) `%run test.py` will run the file `test.py` if the file is in your working directory. \n",
    "4. **Load it in Jupyter with a magic command**: `%load test.py` will copy and paste the whole file into you open notebook. \n",
    "\n",
    "Suppose that `test.py` ([here it is](https://github.com/LeDataSciFi/lectures-spr2020/tree/master/content/01) within the lectures repo) contains the following, which I've copied into a notebook cell (Method 2):"
   ]
  },
  {
   "cell_type": "code",
   "execution_count": 18,
   "metadata": {},
   "outputs": [
    {
     "name": "stdout",
     "output_type": "stream",
     "text": [
      "foobar\n",
      "foobar\n",
      "foobar\n",
      "foobar\n",
      "foobar\n"
     ]
    }
   ],
   "source": [
    "for i in range(5):\n",
    "    print('foobar')"
   ]
  },
  {
   "cell_type": "markdown",
   "metadata": {},
   "source": [
    "Or I could execute that without copy and pasting by running (Method 3):"
   ]
  },
  {
   "cell_type": "code",
   "execution_count": 1,
   "metadata": {},
   "outputs": [
    {
     "name": "stdout",
     "output_type": "stream",
     "text": [
      "foobar\n",
      "foobar\n",
      "foobar\n",
      "foobar\n",
      "foobar\n"
     ]
    }
   ],
   "source": [
    "%run test.py"
   ]
  },
  {
   "cell_type": "markdown",
   "metadata": {},
   "source": [
    "Or I could load the contents via a magic command (Method 4). Below, I typed `%load test.py`, then executed the cell with `CTRL+ENTER`, and Jupyter did the rest (including adding the `#` comment sign:"
   ]
  },
  {
   "cell_type": "code",
   "execution_count": null,
   "metadata": {},
   "outputs": [],
   "source": [
    "# %load test.py\n",
    "for i in range(5):\n",
    "    print('foobar')\n"
   ]
  },
  {
   "cell_type": "markdown",
   "metadata": {},
   "source": [
    "### The most useful magic commands\n",
    "Again, a nice introduction to magics is [here](https://jakevdp.github.io/PythonDataScienceHandbook/01.03-magic-commands.html). \n",
    "\n",
    "- `%pwd` - what is the working directory at this stage of the code?\n",
    "- `%ls` - what is in the working directory\n",
    "- `%timeit` and `%%timeit` - times the code. `%` times a single line of code, and `%%` times the entire cell\n",
    "- `%conda` - runs the \"conda\" package manager within IPython (Conda installs, runs and updates packages)\n",
    "- `%debug` - starts the debugging interface\n",
    "- `%load` - loads a python file\n",
    "- `%%file` will save the cell (and just that cell) to a python file\n",
    "- You can ask IPython for help on magics! E.g. `%timeit?`\n",
    "- IPython can list all magics `%lsmagic` and describe them all `%magic` (although just going to the [official documentation](https://ipython.readthedocs.io/en/stable/interactive/magics.html#) is probably better)"
   ]
  },
  {
   "cell_type": "markdown",
   "metadata": {},
   "source": [
    "## The file isn't in my PWD!\n",
    "\n",
    "1. Move the file into the PWD: (A) Copy/paste between folders on your computer  (B) Use the \"Upload button\" in IPython's dashboard (the page that opened up when you started IPython).\n",
    "2. Change the PWD to where the file is: Use the `cd \"<path to folder>\"` command. (Hint: You can use tab completion to type the path out faster!)"
   ]
  },
  {
   "cell_type": "markdown",
   "metadata": {},
   "source": [
    "# Ending class\n",
    "\n",
    "## Save your live coding file, then upload it to the participation repo\n",
    "\n",
    "1. `CTRL+S` or `apple+S` will save the notebook.\n",
    "2. Find the file on your computer. Then open your participation repo on GitHub. Make sure you're logged in.\n",
    "3. Then you can drag the file onto the repo. Add a comment then click \"commit changes\", and viola!\n",
    "\n",
    "## Reminder: Drop-in hours\n",
    "\n",
    "[They are listed here](https://ledatascifi.github.io/#student-drop-in-hours). "
   ]
  },
  {
   "cell_type": "markdown",
   "metadata": {},
   "source": [
    "## Before next class\n",
    "\n",
    "1. After class: Upload the notebook you've been playing with into your participation repo. \n",
    "2. Writing commands into Terminal/Powershell can be slow. Would you like to be able to copy and paste? Doesn't that sound faster? Then activate it! So \n",
    "   1. Right click on the title bar of the Anaconda Powershell Prompt\n",
    "   2. Select Defaults\n",
    "   3. Under \"Edit Options\", select all the boxes.\n",
    "   4. Verify it works by copying some text in the prompt (highlight any text in the shell, and hit `ENTER` to copy) and pasting it (`right click` anywhere inside the shell). \n",
    "   5. Close the shell, reopen it, and do the copy/paste test again. If it works, we're set!\n",
    "3. Python intro tutorials. Go to the [Resources tab](https://ledatascifi.github.io/studentresourcevert/resource-landing.html#python) of this website. \n",
    "    - Look at some of the cheatsheets I provided there.\n",
    "    - Walk through a tutorial. You can do some of [Whirlwind of Python](https://nbviewer.jupyter.org/github/jakevdp/WhirlwindTourOfPython/blob/master/Index.ipynb) or instead some of [Datacamp](https://www.datacamp.com/). Just play around a little! (The [official python documentation tutorial](https://docs.python.org/3/tutorial/introduction.html) is pretty good too, as is [Dive into python](https://diveinto.org/python3/table-of-contents.html)\n",
    "    - [Sections 1, 5, and 8 of this page](https://realpython.com/python-first-steps/#8-python-idioms-happy-coding) describes some elemental Python things\n"
   ]
  },
  {
   "cell_type": "markdown",
   "metadata": {},
   "source": [
    "## Credits\n",
    "\n",
    "This lecture borrowed from the first chapter of the [Python Data Science Handbook](https://jakevdp.github.io/PythonDataScienceHandbook/index.html) and [QuantEcon](https://python.quantecon.org/index_learning_python.html). "
   ]
  }
 ],
 "metadata": {
  "celltoolbar": "Tags",
  "kernelspec": {
   "display_name": "Python 3",
   "language": "python",
   "name": "python3"
  },
  "language_info": {
   "codemirror_mode": {
    "name": "ipython",
    "version": 3
   },
   "file_extension": ".py",
   "mimetype": "text/x-python",
   "name": "python",
   "nbconvert_exporter": "python",
   "pygments_lexer": "ipython3",
   "version": "3.7.4"
  }
 },
 "nbformat": 4,
 "nbformat_minor": 2
}
