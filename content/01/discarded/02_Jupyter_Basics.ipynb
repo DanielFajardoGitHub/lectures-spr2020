{
 "cells": [
  {
   "cell_type": "markdown",
   "metadata": {},
   "source": [
    "# Let's start learning how to work in Jupyter\n",
    "\n",
    "Python is \n",
    "* general-purpose programming language conceived in 1989 by Dutch programmer Guido van Rossum.\n",
    "* free and open source\n",
    "* has simple syntax\n",
    "* object oriented: EVERYTHING IS AN OBJECT\n",
    "* popular among the largest tech firms in the world: Google, Amazon, Uber, Dropboz, Reddit, Youtube, ...\n",
    "* popular in the scientific community: academia, NASA, CERN, Wall Street, ...\n",
    " \n",
    "\n",
    "Jupyter (Notebook) aka IPython\n",
    "* is one way to write and execute Python code\n",
    "* is browser based\n",
    "* results in files that **are easy to share** and rerun (and thus easy to collaborate with)\n",
    "* allows users to mix code and formatted text and mathematical expressions (and thus produces elegant and easy-to-digest reports)\n",
    "* is great for new coders\n",
    "\n",
    "In fact, almost every page on this website is a Jupyter Notebook! Notice how there are headers, full text formatting, media inserts, and also code snippets and output. This means readers see output immediately after the relevant code, and makes understanding code much easier. \n"
   ]
  },
  {
   "cell_type": "markdown",
   "metadata": {},
   "source": [
    "## Outline\n",
    "\n",
    "%todo\n",
    "\n",
    "1. Writing our first Python file\n",
    "1. \n",
    "1. "
   ]
  },
  {
   "cell_type": "markdown",
   "metadata": {},
   "source": [
    "## Opening Jupyter and Basic Usage\n",
    "\n",
    "Did you download and install Anaconda? If yes, we can proceed. If not, go back to the lecture files and follow the instructions so that you can follow along. (And if you haven't, then you aren't doing the after class work!)\n",
    "\n",
    "**So, let's write our first file!**\n",
    "\n",
    "### Opening a new file, and choosing its location on your computer\n",
    "\n",
    "Your options:\n",
    "1. Windows: Open Anaconda Powershell Prompt and type `jupyter notebook` \n",
    "1. Mac: Open Terminal and type `$ jupyter notebook` \n",
    "1. Open Anaconda Navigator (which opens a menu of programs) and then select Jupyter\n",
    "\n",
    "**Practice: Try one of these!** All of these open a new tab on your browser:\n"
   ]
  },
  {
   "cell_type": "markdown",
   "metadata": {},
   "source": [
    "![](img/open-notebook.png)"
   ]
  },
  {
   "cell_type": "markdown",
   "metadata": {},
   "source": [
    "#### A fourth option to open Jupyter Notebook:\n",
    "Now, navigating from there to a folder/director where a python file is, or where you want it to be, can be annoying, so what I usually do to open Jupyter is:\n",
    "1. Navigate on your computer to the folder you want to work in/where the Py file is. Often, you'll create a new folder specific to the project. Let's call today's project \"FirstPythonCode\" and create a folder for it. You can put it wherever you want. \n",
    "2. Find the full path to the folder, e.g. `C:\\Users\\Don\\FirstPythonCode`\n",
    "3. In Terminal or Powershell type `jupyter notebook --notebook-dir \"C:\\Users\\Don\\FirstPythonCode\"` \n",
    "    - Here the `--notebook-dir` means that we are opening Jupyter but want to choose the notebook location, and then we type the location.\n",
    "    - I have this command (`jupyter notebook --notebook-dir`) pasted into a note on my computer so I can quickly copy and paste it into the shell. \n",
    "\n",
    "**Practice:** \n",
    "- **Create a folder on your computer called \"FirstPythonCode\"**\n",
    "- **Open Jupyter Notebook so that you can see files in that location.** You can either navigate within the browser by point-and-click navigation, or use the \n",
    "- **Click on \"New\" and \"Python 3\" to create a new notebook.**\n",
    "- **Stop here so we can discuss what you're seeing.**\n",
    "\n",
    "A sample notebook will look like this:\n"
   ]
  },
  {
   "cell_type": "code",
   "execution_count": null,
   "metadata": {},
   "outputs": [],
   "source": []
  },
  {
   "cell_type": "markdown",
   "metadata": {},
   "source": [
    "%todo, pic that shows cells, comment code, cell breaks, notice the syntax highlighting for code, the markdown formatting, the markdown/code drop down box, the help menu/keyboard \"command palette\"\n",
    "\n",
    "Do that! Start a blank file to work on alongside me. This will your participation file for the day. Lots of livecoding the next few days.\n",
    "\n",
    "Open new file\n",
    "Save a file (see it show up on your computer?)\n",
    "What a cell is - Markdown vs. Code, and switching between\n",
    "Insert new cells above or below\n",
    "Delete cells\n",
    "Split cells \n"
   ]
  },
  {
   "cell_type": "markdown",
   "metadata": {},
   "source": []
  },
  {
   "cell_type": "markdown",
   "metadata": {},
   "source": []
  },
  {
   "cell_type": "markdown",
   "metadata": {},
   "source": []
  },
  {
   "cell_type": "markdown",
   "metadata": {},
   "source": []
  },
  {
   "cell_type": "markdown",
   "metadata": {},
   "source": [
    "## Resources, help, and documentation\n",
    "\n",
    "The [help and documentation](https://jakevdp.github.io/PythonDataScienceHandbook/01.01-help-and-documentation.html) section of the \"Python Data Science Handbook\" by Jake VanderPlas begins by saying:\n",
    "\n",
    "> **If you read no other section in this chapter, read this one: I find the tools discussed here to be the most transformative contributions of IPython to my daily workflow.**\n",
    ">\n",
    "> When a technologically-minded person is asked to help a friend, family member, or colleague with a computer problem, most of the time it's less a matter of knowing the answer as much as knowing how to quickly find an unknown answer. In data science it's the same: searchable web resources such as online documentation, mailing-list threads, and StackOverflow answers contain a wealth of information, even (especially?) if it is a topic you've found yourself searching before. ~~Being an effective practitioner of data science~~ Being efficient in many aspects of life these days is less about memorizing the tool or command you should use for every possible situation, and more about learning to effectively find the information you don't know, whether through a web search engine or another means.\n",
    ">\n",
    "> One of the most useful functions of IPython/Jupyter is to shorten the gap between the user and the type of documentation and search that will help them do their work effectively. While web searches still play a role in answering complicated questions, an amazing amount of information can be found through IPython alone.\n",
    "\n",
    "Now, let's go to [that page](https://jakevdp.github.io/PythonDataScienceHandbook/01.01-help-and-documentation.html), and work through/read through:\n",
    "\n",
    "- accessing documentation with `?` (quicker than typing `help()`\n",
    "- tab completion (objects, packages)\n",
    "\n",
    "So define this vector on your open notebook by typing `L = [1,2,3]` and then type `CTRL+ENTER` to execute the cell.\n",
    "\n",
    "If you typed `CTRL+ENTER` and you don't see `In [#]:` to the left of the box and the text is just black, that means Jupyter thinks the \"cell\" you are typing in is \"Markdown\" (think of Markdown as a version of  Microsoft Word) instead of code. Fix this by clicking inside the cell where you defined "
   ]
  },
  {
   "cell_type": "code",
   "execution_count": 8,
   "metadata": {},
   "outputs": [],
   "source": [
    "L = [1,2,3]"
   ]
  },
  {
   "cell_type": "markdown",
   "metadata": {},
   "source": [
    "Key board short cuts! Return to this often!\n",
    "\n",
    "List 2 more from resources tab"
   ]
  },
  {
   "cell_type": "code",
   "execution_count": null,
   "metadata": {},
   "outputs": [],
   "source": []
  },
  {
   "cell_type": "code",
   "execution_count": 7,
   "metadata": {},
   "outputs": [],
   "source": []
  },
  {
   "cell_type": "markdown",
   "metadata": {},
   "source": [
    "## Notebook basics\n",
    "\n",
    "See those to borrow from\n",
    "\n",
    "Always “close kernel and rerun” from scratch to ensure the code as is can run on its own (without your interactive help)"
   ]
  },
  {
   "cell_type": "markdown",
   "metadata": {},
   "source": [
    "## A simple program\n",
    "Simple test program with ourworldindata or macro time series from FRED, SP index, wine prices\n",
    "\n",
    "They don’t need to understand it yet, just point is to see it in action. Pandas to download and then produce some nice plots (UO Ec day 1 does something dope)\n",
    "\n",
    "a pop out can contrast output of these from (1) a “py” only + word doc approach vs (2) a nicely formatted standalone Jupyter file\n",
    "\n",
    "Have this as a simple_test_prog.py file linked, that they can download when I show them how to “run local file” below, and copy to their class participation file to run\n",
    "\n",
    "Make some points about import lines (as in https://python.quantecon.org/python_by_example.html)\n"
   ]
  },
  {
   "cell_type": "markdown",
   "metadata": {},
   "source": [
    "## Installing libraries \n",
    "(quantecon has a sketch, but we can be clearer)"
   ]
  },
  {
   "cell_type": "markdown",
   "metadata": {},
   "source": [
    "## Working with files (quantecon)\n",
    "\n",
    "## How to close down files after class\n",
    "\n",
    "## Drop in hour reminder\n"
   ]
  },
  {
   "cell_type": "markdown",
   "metadata": {},
   "source": [
    "## Before next class\n",
    "\n",
    "%todo \n",
    "\n",
    "1. After class: post into participation repo todays notes\n",
    "2. Writing commands into Terminal/Powershell can be slow. Would you like to be able to copy and paste? Doesn't that sound faster? Then activate it! Follow instrutions here for Terminal %todo\n",
    "   - and here for Powershell %todo\n",
    "   - and verify it works by trying to copy and paste some text into the terminal/shell.\n",
    "2. This lecture followed the first chapter of the [Python Data Science Handbook](https://jakevdp.github.io/PythonDataScienceHandbook/index.html). We won't cover it all in class today, so you should work through it over the weekend. Being comfortable in Jupyter is utterly essential for everything we do. \n",
    "3. \n",
    "\n",
    "\n",
    "Resources\n",
    "https://www.dataquest.io/blog/jupyter-notebook-tips-tricks-shortcuts/\n"
   ]
  },
  {
   "cell_type": "markdown",
   "metadata": {},
   "source": [
    "## Credits\n",
    "\n",
    "%todo\n",
    "\n",
    "## NO GIT OR GIT GUIS YET"
   ]
  },
  {
   "cell_type": "markdown",
   "metadata": {},
   "source": [
    "## Sections for most classes\n",
    "\n",
    "%todo, cannabilze and delete before making public\n",
    "\n",
    "-materials, \n",
    "-what to do next, \n",
    "-Check ins: What questions do you have for me? \"What can I clarify for you?\"\n",
    "-Think Pair share, optionally:Who can tell us something insightful that your partner said?\n",
    "-graded work related to this class (always includes uploading day’s in class code work, refers to assignments underway, refers to peer review), \n",
    "-references, \n",
    "-link back to landing page (if needed)\n"
   ]
  }
 ],
 "metadata": {
  "kernelspec": {
   "display_name": "Python 3",
   "language": "python",
   "name": "python3"
  },
  "language_info": {
   "codemirror_mode": {
    "name": "ipython",
    "version": 3
   },
   "file_extension": ".py",
   "mimetype": "text/x-python",
   "name": "python",
   "nbconvert_exporter": "python",
   "pygments_lexer": "ipython3",
   "version": "3.7.4"
  }
 },
 "nbformat": 4,
 "nbformat_minor": 2
}
