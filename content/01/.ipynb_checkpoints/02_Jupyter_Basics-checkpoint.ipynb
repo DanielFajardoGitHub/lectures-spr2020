{
 "cells": [
  {
   "cell_type": "markdown",
   "metadata": {},
   "source": [
    "# Let's start learning how to work in Jupyter\n",
    "\n",
    "Python is \n",
    "* general-purpose programming language conceived in 1989 by Dutch programmer Guido van Rossum.\n",
    "* free and open source\n",
    "* has simple syntax\n",
    "* object oriented: EVERYTHING IS AN OBJECT\n",
    "* popular among the largest tech firms in the world: Google, Amazon, Uber, Dropboz, Reddit, Youtube, ...\n",
    "* popular in the scientific community: academia, NASA, CERN, Wall Street, ...\n",
    " \n",
    "\n",
    "Jupyter (Notebook) aka IPython\n",
    "* is one way to write and execute Python code\n",
    "* is browser based\n",
    "* results in files that **are easy to share** and rerun (and thus easy to collaborate with)\n",
    "* allows users to mix code and formatted text and mathematical expressions (and thus produces elegant and easy-to-digest reports)\n",
    "* is great for new coders\n",
    "\n",
    "In fact, almost every page on this website is a Jupyter Notebook! Notice how there are headers, full text formatting, media inserts, and also code snippets and output. This means readers see output immediately after the relevant code, and makes understanding code much easier. \n"
   ]
  },
  {
   "cell_type": "markdown",
   "metadata": {},
   "source": [
    "# Outline\n",
    "\n",
    "%todo\n",
    "\n",
    "1. Writing our first Python file\n",
    "1. Jupyter: working with cells and inside cells\n",
    "1. [THE MOST IMPORTANT PART OF THIS PAGE](#resources-help-and-documentation)\n",
    "1. A simple program\n",
    "1. "
   ]
  },
  {
   "cell_type": "markdown",
   "metadata": {},
   "source": [
    "# Opening Jupyter and Basic Usage\n",
    "\n",
    "Did you download and install Anaconda? If yes, we can proceed. If not, go back to the lecture files and follow the instructions so that you can follow along. (And if you haven't, then you aren't doing the after class work!)\n",
    "\n",
    "**So, let's write our first file!**\n",
    "\n",
    "## Opening a new file, and choosing its location on your computer\n",
    "\n",
    "Your options:\n",
    "1. Windows: Open Anaconda Powershell Prompt and type `jupyter notebook` \n",
    "1. Mac: Open Terminal and type `jupyter notebook` \n",
    "1. Either: Open Anaconda Navigator (which opens a menu of programs) and then select Jupyter\n",
    "\n",
    "**Practice: Try one of these!** All of these open a new tab on your browser:\n"
   ]
  },
  {
   "cell_type": "markdown",
   "metadata": {},
   "source": [
    "![](img/open-notebook.png)"
   ]
  },
  {
   "cell_type": "markdown",
   "metadata": {},
   "source": [
    "### A fourth option to open Jupyter Notebook:\n",
    "Now, navigating from there to a folder/director where a python file is, or where you want it to be, can be annoying, so what I usually do to open Jupyter is:\n",
    "1. Navigate on your computer to the folder you want to work in/where the Py file is. Often, you'll create a new folder specific to the project. Let's call today's project \"FirstPythonCode\" and create a folder for it. You can put it wherever you want. \n",
    "2. Find the full path to the folder, e.g. `C:\\Users\\Don\\FirstPythonCode`\n",
    "3. In Terminal or Powershell type `jupyter notebook --notebook-dir \"C:\\Users\\Don\\FirstPythonCode\"` \n",
    "    - Here the `--notebook-dir` means that we are opening Jupyter but want to choose the notebook location, and then we type the location.\n",
    "    - I have this command (`jupyter notebook --notebook-dir`) pasted into a note on my computer so I can quickly copy and paste it into the shell. \n",
    "\n",
    "**Practice:** \n",
    "- _**Create a folder on your computer called \"FirstPythonCode\"**_\n",
    "- _**Open Jupyter Notebook so that you can see files in that location.**_ You can either navigate within the browser by point-and-click navigation, or use the \n",
    "- _**Click on \"New\" and \"Python 3\" to create a new notebook.**_\n",
    "- _**Stop here so we can discuss what you're seeing.**_\n",
    "\n",
    "**We are going to do a lot of livecoding together in class. Save these files as they are at the end of class, as I'm thinking these will be part of your participation grade.** \n",
    "\n",
    "A sample notebook will look like this:\n"
   ]
  },
  {
   "cell_type": "markdown",
   "metadata": {},
   "source": [
    "![](img/firstbook-notes1.png)"
   ]
  },
  {
   "cell_type": "markdown",
   "metadata": {},
   "source": [
    "## Jupyter Basics\n",
    "\n",
    "Let's do the following:\n",
    "1. Save that file: Give it a name at the top: \"In Class-Lecture 2\". Now look in the folder on your computer - it should be there! **CHECK-IN: Do you see it?** Note that under the \"File\" menu you can\n",
    "    - Make a copy\n",
    "    - \"Save As\" (give it a new name/location, and the existing file will remain where it it)\n",
    "    - \"Save and checkpoint\". You can \"roll back\" to this checkpoint later. Useful while exploring!\n",
    "2. Let's type some Python in the notebook \n",
    "    - Copy the first 3 lines in example above. Do you notice the syntax coloring?\n",
    "    - The hashtags/pound signs are the \"comment signal\". They tell Python to ignore everything to the right of it on that line, so that you can write notes to anyone looking at the code.\n",
    "3. Run that code:\n",
    "    - `CTRL+ENTER` will run the code in the active cell\n",
    "    - \"Kernel\" menu > \"Restart and Clear Output\" will clear the workspace (so Python will forget all variables and objects in memory for this session) and then \"Cell\" menu > \"Run All\" will rerun everything. **YOU MUST DO THIS ON EVERY FILE WHEN YOU ARE DONE TO ENSURE THAT THE CODE WORKS IN ORDER AND CAN BE REPRODUCED BY OTHERS**\n",
    "4. Add a new cell below by _**clicking**_ \"Insert\" > \"Insert Cell Below\".\n",
    "5. Add a new cell below by _**keyboard shortcut**_. To do that, we need a quick disgression on Jupyter's modal editing system. Check out the popout to the right. "
   ]
  },
  {
   "cell_type": "markdown",
   "metadata": {
    "tags": [
     "popout"
    ]
   },
   "source": [
    "_**Jupyter notebook uses a modal editing system.**_\n",
    "\n",
    "This means that the effect of typing at the keyboard depends on which mode you are in. The two modes are\n",
    "\n",
    "1. When you are typing inside a cell, you are in **Edit mode**, and there is a green border around that cell. **Switch into edit mode by hitting `Enter` or double clicking in the cell.**\n",
    "2. **Command mode** means that keystrokes are interpreted by Jupyter as commands (e.g. insert a new cell). When you are in command mode, the green border is replaced by a grey/blue border. **Hit `ESC` to switch to command mode.**\n",
    "\n",
    "The modal behavior of the Jupyter notebook is a little tricky at first but very efficient when you get used to it.   "
   ]
  },
  {
   "cell_type": "markdown",
   "metadata": {},
   "source": [
    " .\n",
    " \n",
    " \n",
    " .\n",
    " \n",
    " .\n",
    " \n",
    " .\n",
    " \n",
    " .\n",
    " \n",
    " .\n",
    " \n",
    " .\n",
    " \n",
    " .\n",
    " \n",
    " .\n",
    " \n",
    " .\n",
    " \n",
    " .\n",
    " \n",
    " .\n",
    " \n",
    " .\n",
    " \n",
    " .\n",
    " \n",
    " .\n",
    " \n",
    " .\n",
    " \n",
    " .\n",
    " \n",
    " .\n",
    "\n",
    "So switch to command mode (hit `ESC`) and insert the new cell below by typing `b`.\n",
    "    \n",
    "6. Switch the inserted cell to markdown (via the markdown/code drop down box) and write several lines.\n",
    "6. Split the markdown cell in half and insert a cell in the middle of those halves. \n",
    "    - ~~How do you split a cell in half?~~ Better question: Where do you look for an answer about how to do that? \n",
    "    \n",
    "    **This is a good time to explore!** Take the \"user interface tour\" under help, then look through the various menus, check out the Keyboard Shortcuts (under the help menu), and then search through the \"command palette\" (which looks like a keyboard icon at the right side of the Notebook Toolbar). **The command palette is very useful because you can search for commands!** Return to the shortcut menu and command palette often!!!\n",
    "    \n",
    "7. Switch that middle cell to \"code\" mode via keyboard shortcuts. \n",
    "8. Add a cell at the bottom of the notebook, and then delete it: `ESC` to go to command mode and then `D`,`D` (hit the \"d\" button twice).\n",
    "\n",
    "### Class poll? How did we do? 9/9?\n",
    "\n",
    "If so, we're in great shape! Obviously, we will learn much more going forward, but you have enough to play around with Jupyter now. I **highly** recommend doing some introductory Python tutorials over the weekend. The bottom of this page lists some great places to start. \n"
   ]
  },
  {
   "cell_type": "markdown",
   "metadata": {},
   "source": [
    "# Resources, help, and documentation\n",
    "\n",
    "The [help and documentation](https://jakevdp.github.io/PythonDataScienceHandbook/01.01-help-and-documentation.html) section of the \"Python Data Science Handbook\" by Jake VanderPlas begins by saying:\n",
    "\n",
    "> **If you read no other section in this chapter, read this one: I find the tools discussed here to be the most transformative contributions of IPython to my daily workflow.**\n",
    ">\n",
    "> When a technologically-minded person is asked to help a friend, family member, or colleague with a computer problem, most of the time it's less a matter of knowing the answer as much as knowing how to quickly find an unknown answer. In data science it's the same: searchable web resources such as online documentation, mailing-list threads, and StackOverflow answers contain a wealth of information, even (especially?) if it is a topic you've found yourself searching before. ~~Being an effective practitioner of data science~~ Being efficient in many aspects of life these days is less about memorizing the tool or command you should use for every possible situation, and more about learning to effectively find the information you don't know, whether through a web search engine or another means.\n",
    ">\n",
    "> One of the most useful functions of IPython/Jupyter is to shorten the gap between the user and the type of documentation and search that will help them do their work effectively. While web searches still play a role in answering complicated questions, an amazing amount of information can be found through IPython alone.\n",
    "\n",
    "The [official IPython documentation](https://ipython.readthedocs.io/en/stable/interactive/tutorial.html#the-four-most-helpful-commands) has the same gist. So let's call the **\"Five most helpful commands in IPython**:\n",
    "\n",
    "| command | description | Example |\n",
    "| --- | --- | --- |\n",
    "| ? | Python documentation | `len?` |\n",
    "| %quickref | Quick reference. | . |\n",
    "| help(<on-what>) | Python’s own help system. | `help(len)` |\n",
    "| object? | Details about ‘object’, use ‘object??’ for extra details |\n",
    "| \\< TAB \\> | Auto-completion menus (REALLY HELPFUL!)  | `import ` \\< TAB \\> |\n",
    "   \n",
    "[Python Data Science Handbook](https://jakevdp.github.io/PythonDataScienceHandbook/01.01-help-and-documentation.html#Tab-completion-of-object-contents), elaborates nicely on `?` and tab completion.\n",
    "\n",
    "If we have time, click that last link and check out tab completion. If not, everyone should do this after class. I find tab-completion absolutely essential, and think you'll be happy to know it!\n",
    "\n"
   ]
  },
  {
   "cell_type": "markdown",
   "metadata": {},
   "source": [
    "# A simple program: importing data and packages\n",
    "\n",
    "Simple test program with ourworldindata or macro time series from FRED, SP index, wine prices\n",
    "\n",
    "They don’t need to understand it yet, just point is to see it in action. Pandas to download and then produce some nice plots (UO Ec day 1 does something dope)\n",
    "\n",
    "a pop out can contrast output of these from (1) a “py” only + word doc approach vs (2) a nicely formatted standalone Jupyter file\n",
    "\n",
    "Have this as a simple_test_prog.py file linked, that they can download when I show them how to “run local file” below, and copy to their class participation file to run\n",
    "\n",
    "Make some points about import lines (as in https://python.quantecon.org/python_by_example.html)\n",
    "\n",
    "\n"
   ]
  },
  {
   "cell_type": "markdown",
   "metadata": {},
   "source": [
    "## Installing libraries \n",
    "(quantecon has a sketch, but we can be clearer)\n",
    "\n",
    "https://python.quantecon.org/python_essentials.html\n",
    "\n",
    "As the above example shows..."
   ]
  },
  {
   "cell_type": "markdown",
   "metadata": {},
   "source": [
    "# Working with files (quantecon)"
   ]
  },
  {
   "cell_type": "markdown",
   "metadata": {},
   "source": [
    "# How to close down files after class"
   ]
  },
  {
   "cell_type": "markdown",
   "metadata": {},
   "source": [
    "# Reminder: Drop-in hours\n",
    "\n",
    "[They are listed here](https://ledatascifi.github.io/#student-drop-in-hours). "
   ]
  },
  {
   "cell_type": "markdown",
   "metadata": {},
   "source": [
    "## Before next class\n",
    "\n",
    "1. After class: Upload the notebook you've been playing with into your participation repo. \n",
    "2. Writing commands into Terminal/Powershell can be slow. Would you like to be able to copy and paste? Doesn't that sound faster? Then activate it! So \n",
    "   1. Right click on the title bar of the Anaconda Powershell Prompt\n",
    "   2. Select Defaults\n",
    "   3. Under \"Edit Options\", select all the boxes.\n",
    "   4. Verify it works by copying some text in the prompt (highlight any text in the shell, and hit `ENTER` to copy) and pasting it (`right click` anywhere inside the shell). \n",
    "   5. Close the shell, reopen it, and do the copy/paste test again. If it works, we're set!\n",
    "3. Python intro tutorials. Go to the [Resources tab](https://ledatascifi.github.io/studentresourcevert/resource-landing.html#python) of this website. \n",
    "    - Look at some of the cheatsheets I provided there.\n",
    "    - Walk through a tutorial tutorial. You can do some of [Whirlwind of Python](https://nbviewer.jupyter.org/github/jakevdp/WhirlwindTourOfPython/blob/master/Index.ipynb) or instead some of [Datacamp](https://www.datacamp.com/). Just play around a little! (The [official python documentation tutorial](https://docs.python.org/3/tutorial/introduction.html) is pretty good too, as is [Dive into python](https://diveinto.org/python3/table-of-contents.html)\n",
    "    - [Sections 1, 5, and 8 of this page](https://realpython.com/python-first-steps/#8-python-idioms-happy-coding) describes some elemental Python things\n"
   ]
  },
  {
   "cell_type": "markdown",
   "metadata": {},
   "source": [
    "## Credits\n",
    "\n",
    "This lecture borrowed from the first chapter of the [Python Data Science Handbook](https://jakevdp.github.io/PythonDataScienceHandbook/index.html) and [QuantEcon}(https://python.quantecon.org/index_learning_python.html). "
   ]
  },
  {
   "cell_type": "markdown",
   "metadata": {},
   "source": [
    "## Sections for most classes\n",
    "\n",
    "%todo, cannabilze and delete before making public\n",
    "\n",
    "-materials, \n",
    "-Check ins: What questions do you have for me? \"What can I clarify for you?\"\n",
    "-Think Pair share, optionally:Who can tell us something insightful that your partner said?\n",
    "-graded work related to this class (always includes uploading day’s in class code work, refers to assignments underway, refers to peer review), \n",
    "-references, \n",
    "-link back to landing page (if needed)\n"
   ]
  },
  {
   "cell_type": "code",
   "execution_count": null,
   "metadata": {},
   "outputs": [],
   "source": [
    " "
   ]
  }
 ],
 "metadata": {
  "celltoolbar": "Tags",
  "kernelspec": {
   "display_name": "Python 3",
   "language": "python",
   "name": "python3"
  },
  "language_info": {
   "codemirror_mode": {
    "name": "ipython",
    "version": 3
   },
   "file_extension": ".py",
   "mimetype": "text/x-python",
   "name": "python",
   "nbconvert_exporter": "python",
   "pygments_lexer": "ipython3",
   "version": "3.7.4"
  }
 },
 "nbformat": 4,
 "nbformat_minor": 2
}
