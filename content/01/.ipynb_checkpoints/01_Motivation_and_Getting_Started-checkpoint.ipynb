{
 "cells": [
  {
   "cell_type": "markdown",
   "metadata": {},
   "source": [
    "# Welcome to class!\n",
    "\n"
   ]
  },
  {
   "cell_type": "markdown",
   "metadata": {},
   "source": [
    "## Outline\n",
    "\n",
    "1. Motivation\n",
    "1. Overview of the course and its site\n",
    "1. Start installing the key softwares\n",
    "1. Github\n",
    "1. Before next time..."
   ]
  },
  {
   "cell_type": "markdown",
   "metadata": {},
   "source": [
    "## Motivation, or: Should I take this class (A: YES!)\n",
    "\n",
    "Employers are starving for talented students that can use Python, and they are willing to pay for it:\n",
    "\n",
    "<a href=\"https://www.codeplatoon.org/the-best-paying-and-most-in-demand-programming-languages-in-2018/\">\n",
    "    <img src=\"img/indeed.png\" width=\"60%\" ></a>\n",
    "    \n",
    "<img src=\"img/stackoverflowstrends.svg\" width=\"70%\" > \n",
    "\n",
    "<a href=\"https://www.kdnuggets.com/2018/11/most-demand-skills-data-scientists.html\">\n",
    "    <img src=\"img/jobs-by-lang.png\" width=\"60%\" ></a> \n",
    "\n",
    "<img src=\"img/lehigh.jpg\" width=\"60%\" >\n",
    "\n",
    "![](https://media.giphy.com/media/16NCZpTx3QQXS/giphy.gif)\n",
    "\n",
    "Have you heard any employers or guest speakers talk about the role of programming languages in the recent finance job market?\n",
    "\n",
    "And it's not just \"I can make Python print 'Hello World'\". \n",
    "\n",
    "### The data scientist approach is:\n",
    "1. Define a problem/project in a valuable way: A clearly specified question with metrics for success and idea of impact. Always keep the big picture in mind!\n",
    "    - Valuable skill even if you never code again!\n",
    "2. Work _**collaboratively**_ on the problem.\n",
    "    - Interesting problems are **big** and rarely solo: Sir Edmund Hilary needed Tsenging Norgue to climb Everest.\n",
    "    - Valuable skill even if you never code again! Understanding how to manage how any team projects evolve (whether it is producing a document, or slides, or what) is extremely valuable. Imagine spending a week on a report, and then your boss Jan or your coworker Jean Ralphio* undoes your week of work by editing a version of the report that is a week old. ARRRRRG!    \n",
    "3. Acquire data and clean it. Age old wisdom tells us that if the input is crap, the output will be... Time spent on cleaning is often more valuable than time spent on modeling. \n",
    "4. Explore the data.  \n",
    "5. Analysis using appropriate modeling tools. This is <25\\% of the work on most projects.\n",
    "6. Deliver the project conclusions to higher ups in the form of clear business recommendations. Writing should always be geared to the audience, and managers typically want bottom lines, whereas technical leads need more technical justification.\n",
    "    - Valuable skill even if you never code again!\n",
    "\n",
    "**Coworkers can be unreliable:**"
   ]
  },
  {
   "cell_type": "markdown",
   "metadata": {},
   "source": [
    "<img src=\"https://media.giphy.com/media/Onl9LxeKBz65W/giphy.gif\" width=\"50%\" > \n"
   ]
  },
  {
   "cell_type": "markdown",
   "metadata": {},
   "source": [
    "<img src=\"https://media.giphy.com/media/znSg4sT0ivRdu/giphy.gif\" width=\"33%\" align=\"left\"  > \n",
    "<img src=\"https://media.giphy.com/media/HPMTb7m5ehAUE/giphy.gif\" width=\"42%\" align=\"right\" > "
   ]
  },
  {
   "cell_type": "markdown",
   "metadata": {},
   "source": [
    "### From here to there...\n",
    "\n",
    "I've designed this class with the hope that you'll be prepared and able to execute each of those steps. \n",
    "\n",
    "**By the end of the semester, your resume, should you choose to, can include your (burgeoning) proficiency with Python, Github, Machine Learning (ML) tools, web scraping, and data viz, in addition to describing your exploits on Github and the final course project.** \n",
    "\n",
    "So, in terms of data scientists, your journey this semester is hopefully something like:\n",
    "\n",
    "![](img/sarahchange.png)\n",
    "\n",
    "I guess that makes me your old assistant on the journey...\n",
    "\n",
    "![](img/oldarnold.jpg)\n",
    "\n",
    "\n",
    "### Our bargain (not Faustian, I hope)\n",
    "\n",
    "**This class is ambitiuous!** You will need to learn skills from computer science, statistics, and econometrics just so that we have the toolkit needed to begin analysis. I'm aiming to make each of those components assessible (e.g. we won't prove any theorems, and I'm boiling down programming to essentials). Still, that menu of skills is not easy to acquire (that's why employers pay \\$\\$\\$ for it!), and...\n",
    "\n",
    "**THUS: You will have to work outside of class quite a bit.**\n",
    "\n",
    "And if you've never programmed: \n",
    "- I swear, youngens these days have it so much easier!"
   ]
  },
  {
   "cell_type": "markdown",
   "metadata": {
    "tags": [
     "popout"
    ]
   },
   "source": [
    "<a href=\"https://imgflip.com/i/3kc97l\"><img src=\"https://i.imgflip.com/3kc97l.jpg\" width=\"50%\"/></a>\n"
   ]
  },
  {
   "cell_type": "markdown",
   "metadata": {},
   "source": [
    "- **Seriously, getting Python up and running has never been quicker, and we will have some working code soon!**\n",
    "- You will be frustrated at times. This is natural! No programmer exists who has not cursed their computer to the depths of hell. \n",
    "    - This is completely true: Half the time, it's a silly typo on line 42 of your code. Like, you literally misspelled \"regression\" as \"regresion\".\n",
    "    - Corollary: A lot of programming takes places after dark, under the influence of coffee and Red Bull. This is why you misspelled \"regresion\". Try to program at times when you have a cleaer mind :)\n",
    "- Overcoming those frustrating issues feels soooooo good. You'll feel a sense of accomplishment. Fight for that!\n",
    "- Your classmates are in it too, and they can, and surely will, help.\n",
    "\n",
    "**My half of the bargain:** I will work just as hard as you throughout the semester to improve this new class. It's experimental so some things (lectures, assignments) will succeed and aid you along that journey towards being Terminator 3 Linda Hamilton, and some things I try will fail. When something doesn't work out, I'll try to improve it.\n",
    "\n",
    "**Related: When you have questions in class, ask!** Falling behind is costly, and asking a question is cheap. If you're confused or having computer issues, someone else surely is too. If you're stuck outside of class (homeworks, assignments, etc.), see the resources section of the website for a set of things you can do. After trying some basic things, you can always..."
   ]
  },
  {
   "cell_type": "markdown",
   "metadata": {},
   "source": [
    "## Tour the [course site](ledatascifi.github.io)\n",
    "\n",
    "Go over the following:\n",
    "- ~~office hours~~ drop-in hours to ask questions \n",
    "- major topics and themes\n",
    "- syllabus\n",
    "- Note the website has verticals with the daily schedule, assignments, and lectures. Please bookmark and visit these often! The class is still in development, so things will change frequently. \n"
   ]
  },
  {
   "cell_type": "markdown",
   "metadata": {},
   "source": [
    "## Getting started - Our programming \n",
    "\n",
    "1. Download and start install of [Anaconda](https://www.anaconda.com/distribution/) (not [the Nicki Minaj](https://www.youtube.com/watch?v=LDZX4ooRsWs))\n",
    "    - Install the latest version, make Anaconda your default Python installation, and accept all the defaults otherwise \n",
    "    \n",
    "3. Create an account on [GitHub](github.com)  \n",
    "2. Windows users only: Download and start install of [Git](https://git-scm.com/download/)\n",
    "    - I don't believe Mac users need to do this\n",
    "3. Download and start install of a Git __*client*__: [GitHub Desktop](https://desktop.github.com/) \n",
    "    - I accepted the defaults\n"
   ]
  },
  {
   "cell_type": "markdown",
   "metadata": {},
   "source": [
    "## Github\n",
    "\n",
    "Before we get to \n",
    "\n",
    "%todo \n",
    "https://raw.githack.com/uo-ec607/lectures/master/02-git/02-Git.html#2\n",
    "https://stat545guidebook.netlify.com/introduction-to-stat-545-and-github.html\n",
    "\n",
    "\n"
   ]
  },
  {
   "cell_type": "markdown",
   "metadata": {},
   "source": [
    "## Before next class\n",
    "\n",
    "1. Finish setting up our [programming stack](#Getting-started)\n",
    "1. Update Anaconda\n",
    "    - Open up Anaconda Powershell Prompt (on windows, or terminal on Mac) and type `conda update anaconda`\n",
    "1. Try to start the Jupyter Notebook (simply see if you can open it, then close it)\n",
    "    - In Anaconda Powershell Prompt/terminal and type `jupyter notebook` and an internet tab should open with the url `http://localhost:8888` \n",
    "    - You can also open a Jupyter by opening `Anaconda Navigator` and then clicking on Jupyter, but I recommend using the Powershell Prompt, because getting comfortable with that will be helpful\n",
    "3. Github\n",
    "    - Sign up for a [student discount](https://education.github.com/discount_requests/new).\n",
    "    - Please add a profile photo on GitHub, to make our exchanges and community more personal (it's easier for classmates to ignore a \"Twitter egg\" than a smiling Mountain Hawk\n",
    "2. Github practice: Set up confirmation / easy practice: create participation repo, fork the class's lectures %todo \n"
   ]
  },
  {
   "cell_type": "markdown",
   "metadata": {},
   "source": [
    "## Credits\n",
    "\n",
    "- QuantEcon.org\n",
    "- [EC607](https://raw.githack.com/uo-ec607/lectures/master/01-intro/01-Intro.html#1)\n",
    "- stat545.stat.ubc.ca/"
   ]
  }
 ],
 "metadata": {
  "kernelspec": {
   "display_name": "Python 3",
   "language": "python",
   "name": "python3"
  },
  "language_info": {
   "codemirror_mode": {
    "name": "ipython",
    "version": 3
   },
   "file_extension": ".py",
   "mimetype": "text/x-python",
   "name": "python",
   "nbconvert_exporter": "python",
   "pygments_lexer": "ipython3",
   "version": "3.7.4"
  }
 },
 "nbformat": 4,
 "nbformat_minor": 2
}
