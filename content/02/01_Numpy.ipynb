{
 "cells": [
  {
   "cell_type": "markdown",
   "metadata": {},
   "source": [
    "# Numpy\n",
    "\n",
    "We start this module of class by covering `numpy`, because `pandas` is built on top of `numpy`. \n"
   ]
  },
  {
   "cell_type": "code",
   "execution_count": 1,
   "metadata": {},
   "outputs": [],
   "source": [
    "import numpy as np # by convention, numpy is always imported with the alias np\n",
    "import random"
   ]
  },
  {
   "cell_type": "markdown",
   "metadata": {},
   "source": [
    "**Open a folder on your computer with your participation files and open Jupyter to that location.**\n",
    "\n",
    "## Outline\n",
    "\n",
    "1. Beware of memory needs and don't overload your computer\n",
    "2. If your code is slow, find the offending line(s), and try to optimize those\n",
    "3. If you draw random numbers, set a seed so that your results can be replicated and so they don't change everytime you rerun the code\n",
    "4. Numpy and basic commands"
   ]
  },
  {
   "cell_type": "markdown",
   "metadata": {},
   "source": [
    "## Python and Scientific Computing"
   ]
  },
  {
   "cell_type": "markdown",
   "metadata": {},
   "source": [
    "### The issue of memory\n",
    "\n",
    "- **MY MAIN POINT HERE:** The files we deal with will get larger as the class moves forward. Typically, a file on the computer hard drive takes up _twice_ as much space in memory (RAM). _**Be mindful of that and don't load a file that will exceed your computer's available RAM!**_ \n",
    "- Large file sizes will require us to develop workarounds, both in terms of how they are loaded and used, and how they are shared. We will deal with these later. If you run into issues with memory constraints before we cover it more formally, elevate the issue to me before/during/after class, your TA and me during office hours, and the GitHub discussion repo. "
   ]
  },
  {
   "cell_type": "markdown",
   "metadata": {},
   "source": [
    "### The issue of speed\n",
    "\n",
    "Python's biggest strength is the manner in which we write its code. We write plain statements like `for i in range(10): print(i)`. This makes it easy and fast to write and debug code. We don't explicitly write many particulars that the computer needs to know to execute code (e.g. what type is this variable, what operations should I call for that type, how much memory do I allocate for this process?). This is why Python is a \"high level\" language - it is written at a level far from the computer's language (binary). \n",
    "\n",
    "The main cost of this is that Python code can be _sloooooooooow_ to execute. But remember that `total time = programming time + executing time`:\n",
    "- Python, as I mentioned above, tends to minimize `programming time` relative to other languages. \n",
    "- Executing time is, to an approximation, free: Start executing slow code and go see a movie, sleep through the night, or whatever! There is nothing better than having fun and being able to simultaneously claim \"you're working\".\n",
    "- Usually, your code is slow because of one or only a few lines of code. If the code must be speed up, we can identify the culprit, and apply one of a few fixes.\n",
    "\n",
    "An example that shows why Python is slow is the following:"
   ]
  },
  {
   "cell_type": "code",
   "execution_count": 1,
   "metadata": {},
   "outputs": [
    {
     "name": "stdout",
     "output_type": "stream",
     "text": [
      "17\n",
      "py is good\n"
     ]
    }
   ],
   "source": [
    "# a \"+\" sign isn't just a plus sign\n",
    "a,b=3, 14\n",
    "print(a+b)\n",
    "a,b=\"py \",\"is good\"\n",
    "print(a+b)"
   ]
  },
  {
   "cell_type": "markdown",
   "metadata": {},
   "source": [
    "Python handled that like a pro! The \"+\" operator saw numbers and added, but then it saw strings and concatenated. \n",
    "\n",
    "**Q:** How did it do that? **A:** The interpreter in each line checked the objects the \"+\" was operating on and applied the correct method! \n",
    "\n",
    "However, checking objects before every operation involves considerable work: \n",
    "- If you want to add 10 numbers, that's 9 addition operations, plus each time the code checks both objects involved, which is another 18 operations. So it took 27 steps to add 10 numbers. \n",
    "- Languages like FORTRAN and C are compiled, and users have to declare that all 10 numbers are numbers, so C code just plows ahead and is done in 9 steps. \n",
    "- It is even worse than that, because in C, the next number in an array is always the same distance from the prior number (in terms of its physical location in memory). Meanwhile, in Python, the program can't quite assume the next number is the same distance away. These \"look ups\" can cause huge delays.\n",
    "\n",
    "So here is an example: Let's pull random numbers and square them:"
   ]
  },
  {
   "cell_type": "code",
   "execution_count": 3,
   "metadata": {},
   "outputs": [
    {
     "name": "stdout",
     "output_type": "stream",
     "text": [
      "Wall time: 1.08 s\n"
     ]
    }
   ],
   "source": [
    "%%time\n",
    "\n",
    "y = 0     \n",
    "for i in range(1000000):\n",
    "    x = random.uniform(0, 1)\n",
    "    y += x**2"
   ]
  },
  {
   "cell_type": "markdown",
   "metadata": {},
   "source": [
    "Oye, that's not good. \n",
    "\n",
    "![](https://media.giphy.com/media/26AHLNr8en8J3ovOo/giphy.gif)\n",
    "\n",
    "We haven't earned that high five yet, Ghostrider. \n",
    "\n",
    "### The speed solution\n",
    "\n",
    "**Vectorization.** Send commands on arrays to the computer pre-compiled, with efficient native machine code. \n",
    "\n",
    "Let's redo the code above:"
   ]
  },
  {
   "cell_type": "code",
   "execution_count": 4,
   "metadata": {},
   "outputs": [
    {
     "name": "stdout",
     "output_type": "stream",
     "text": [
      "Wall time: 46.8 ms\n"
     ]
    }
   ],
   "source": [
    "%%time\n",
    "\n",
    "x = np.random.uniform(0, 1, 1000000)\n",
    "y = np.sum(x**2)"
   ]
  },
  {
   "cell_type": "markdown",
   "metadata": {},
   "source": [
    "Bam! That is muuuuuch faster. I think we earned that five...\n",
    "\n",
    ".\n",
    "\n",
    ".\n",
    "\n",
    ".\n",
    "\n",
    ".\n",
    "\n",
    ".\n",
    "\n",
    "![](https://media.giphy.com/media/26AHCgWcYM1xSqMaA/giphy.gif)\n",
    "\n",
    "**Back to our regularly scheduled programming:**\n",
    "\n",
    "### Why did that work?\n",
    "\n",
    "- In the slow version, we effectively sent the computer 3m commands: draw a number, square it, then add to prior. \n",
    "- In the fast version, we sent those 3m commands embedded into just 3 array commands: draw an array of numbers, square all the elements of the array, sum the array. The array functions are optimized to use native machine code and don't have to check each element for type. \n",
    "\n",
    "**Verdict: arrays and vectorization are great\\*! And in Python, we implement them using `numpy`.** \n",
    "\n",
    "So let's learn some `numpy`!"
   ]
  },
  {
   "cell_type": "markdown",
   "metadata": {},
   "source": [
    "## Numpy - A veeeery quick guide\n",
    "\n",
    "_(HINT: Jupyter's \"Help\" menu has a link to Numpy documentation.)_\n",
    "\n",
    "You can access an element of a numpy array just like a list: `x=np.arange(1,5,1); x[1]`. If the array is a matrix, `x[row,col]` works.\n",
    "\n",
    "As usual, check out [Whirlwind](https://jakevdp.github.io/PythonDataScienceHandbook/02.02-the-basics-of-numpy-arrays.html) for a more comprehensive dive into splitting, slicing, and more operations.\n",
    "\n",
    "### Common methods:\n",
    "\n",
    "**YOUR TURN:** I suggest copying (by literally typing, not pasting!) these commands into your personal cheat sheet. During class, I'm just going to quickly read these off, so return to this later. \n",
    "\n",
    "- `np.array([user defined list, or lists of lists])` creates an array or matrix\n",
    "- `np.ones(how many)` and `np.ones([rows,cols])`, same but all elements are 1\n",
    "- `np.zeros(how many)` and `np.zeros([rows,cols])`, same but all elements are 0\n",
    "- `np.arange(start,end,stepsize)` , creates array, note that the array will not include any elements `>=end`\n",
    "- `np.linspace(from,to,# of elements)`, creates array covering the range specified\n",
    "- `np.eye(#)` creates an identity matrix of size #x#\n",
    "- `np.concatenate([x, y])` combines arrays `x` and `y` \n",
    "- `np.nan` is a NaN object (e.g. like a missing element in a data table)\n",
    "- `np.ceil(#)`, `np.floor(#)` if #=3.4, ceil will return 4, and floor will return 3.\n",
    "- `np.max(x)`, `np.min(x)`, `np.average(x)`, `np.mediam(x)` and many more statistical operations work as you would expect\n",
    "- `np.reshape(x,[rows,cols])` works as it looks\n",
    "- `np.random.<dist>` can draw random numbers from many distributions\n",
    "    - use tab autocompletion to see all the options (type `np.random.` and then hit TAB)\n",
    "    - **YOU MUST NEVER EVER EVER EVER EVER DRAW RANDOM NUMBERS WITHOUT SETTING A SEED!!!**    \n",
    "    \n",
    "### ASIDE: ALWAYS SET A SEED!\n",
    "\n",
    "Why have I emphasized a \"seed\" so much? Well, suppose you run analysis, and in it, you draw random numbers. "
   ]
  },
  {
   "cell_type": "code",
   "execution_count": 5,
   "metadata": {},
   "outputs": [
    {
     "name": "stdout",
     "output_type": "stream",
     "text": [
      "[0.0776388  0.79816138 0.89095822 0.19309575 0.22132198 0.99545593\n",
      " 0.97664861 0.29155159 0.89413791 0.03145377]\n"
     ]
    }
   ],
   "source": [
    "vector = np.random.uniform(0,1,10)\n",
    "print(vector)"
   ]
  },
  {
   "cell_type": "markdown",
   "metadata": {},
   "source": [
    "Now we run some analysis that uses that vector...\n",
    "\n",
    "But then later, someone else tries to replicate your results, so they run"
   ]
  },
  {
   "cell_type": "code",
   "execution_count": 6,
   "metadata": {},
   "outputs": [
    {
     "name": "stdout",
     "output_type": "stream",
     "text": [
      "[0.55146202 0.78933851 0.51876759 0.63832625 0.1738114  0.99936084\n",
      " 0.91071885 0.3878562  0.84329425 0.23836685]\n"
     ]
    }
   ],
   "source": [
    "vector = np.random.uniform(0,1,10)\n",
    "print(vector)"
   ]
  },
  {
   "cell_type": "markdown",
   "metadata": {},
   "source": [
    "UH-OH. **The rest of their analysis will not match yours. Your results can't be replicated.**\n",
    "\n",
    "Possibly more annoying: Every time **YOU** rerun it, the results will change!\n",
    "\n",
    "**HOW TO SET A SEED:**\n",
    "\n"
   ]
  },
  {
   "cell_type": "code",
   "execution_count": 7,
   "metadata": {},
   "outputs": [
    {
     "name": "stdout",
     "output_type": "stream",
     "text": [
      "[ True  True  True  True  True  True  True  True  True  True]\n"
     ]
    }
   ],
   "source": [
    "np.random.seed(100) # the seed is 100\n",
    "vector = np.random.uniform(0,1,10)\n",
    "np.random.seed(100)\n",
    "vector2 = np.random.uniform(0,1,10)\n",
    "print(vector==vector2)"
   ]
  },
  {
   "cell_type": "markdown",
   "metadata": {},
   "source": [
    "Now, using 100 as the seed, others can replicate your code. "
   ]
  },
  {
   "cell_type": "markdown",
   "metadata": {},
   "source": [
    "### Numpy with pandas\n",
    "\n",
    "These operations all work on pandas objects. That's the tweet. "
   ]
  },
  {
   "cell_type": "markdown",
   "metadata": {},
   "source": [
    "## The dark side of vectors and `numpy`\n",
    "\n",
    "1. You can't vectorize every operation :(\n",
    "2. Can be prohibitive, memory-wise: When you run an array operation, Python creates the entire array and puts it into memory, then runs it. A vector of length `1,000,000,000,000` is huge and requires substantial memory to create. By contrast, you can execute `for i in range(1,000,000,000,000): pass` without causing an issue, because Python **never created that vector, it just iterated over numbers**. This is because `range(#)` is a \"generator\" and not an explicit object. "
   ]
  },
  {
   "cell_type": "markdown",
   "metadata": {},
   "source": [
    "## Before next class\n",
    "\n",
    "1. **YOUR TURN:** Find \"01a-numpy-practice.ipynb\" worksheet inside the lecture repo, then answer all the questions and place the file inside your participation repo.\n",
    "1. Find the last lecture in the github repo, and copy the \"Golden Rules\" into your `navigating_github.md` file. Then, at the bottom of that table, add a new row: the first column should say \"Randoms\" and the second column should say \"NEVER DRAW RANDOM NUMBERS WITHOUT A SEED\". \n"
   ]
  }
 ],
 "metadata": {
  "kernelspec": {
   "display_name": "Python 3",
   "language": "python",
   "name": "python3"
  },
  "language_info": {
   "codemirror_mode": {
    "name": "ipython",
    "version": 3
   },
   "file_extension": ".py",
   "mimetype": "text/x-python",
   "name": "python",
   "nbconvert_exporter": "python",
   "pygments_lexer": "ipython3",
   "version": "3.7.6"
  }
 },
 "nbformat": 4,
 "nbformat_minor": 2
}
