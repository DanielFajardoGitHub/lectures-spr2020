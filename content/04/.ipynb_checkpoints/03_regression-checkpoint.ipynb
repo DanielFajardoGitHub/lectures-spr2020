{
 "cells": [
  {
   "cell_type": "markdown",
   "metadata": {},
   "source": [
    "# Regression - Mechanics and Interpretation\n",
    "\n",
    "## Housecleaning\n",
    "\n",
    "1. Assignment 5 review\n",
    "2. All project instructions moved to [project page](https://ledatascifi.github.io/assignments/project.html) under assignments tab"
   ]
  },
  {
   "cell_type": "markdown",
   "metadata": {},
   "source": [
    "## Objectives\n",
    "\n",
    "1. You can fit a regression with `statsmodels` or `sklearn`\n",
    "2. You can view the results visually or numerically of your model with either \n",
    "3. You can interpret the mechanical meaning of the coefficients in a regression\n",
    "    - continuous variables\n",
    "    - categorical a.k.a qualitative variables with two values (aka \"dummy\" or \"binary\" variables)\n",
    "    - categorical a.k.a qualitative variables with more than values (aka \"fixed effects\")\n",
    "    - how an interaction term changes interpretation\n",
    "4. You understand what a t-stat / p-value does and does not tell you\n",
    "5. You can measure the goodness of fit on a regression\n",
    "6. You are aware of common regression analysis pitfalls and disasters\n",
    "\n",
    "![](https://media.giphy.com/media/yoJC2K6rCzwNY2EngA/giphy.gif)\n"
   ]
  },
  {
   "cell_type": "markdown",
   "metadata": {},
   "source": [
    "## Regression\n",
    "\n",
    "### Basics and notation\n",
    "\n",
    "- **Regression** is the single most important tool at the econometrician's disposal\n",
    "- **Regression analysis** is concerned with the description and evaluation of the relationship between a variable typically called the dependent variable, and one or more other variables, typically called the independent or explanatory variables.\n",
    "- Alternative vocabulary:\n",
    "    \n",
    "| y | x |\n",
    "| :----- | :----- |\n",
    "| dependent variable | independent variables |\n",
    "| regressand | regressors |\n",
    "| effect variable | causal variables |\n",
    "| explained variable | explanatory variables |\n",
    "| | features |\n",
    "\n",
    "\n",
    "### The regression \"model\" and terminology\n",
    "\n",
    "If you want to describe the data (the scatterplot below, e.g.) you might fit a straight line\n",
    "\n",
    "\\begin{align} \n",
    "y=a+\\beta x\n",
    "\\end{align} \n",
    "\n",
    "But that line can't exactly fit all the points of data (it's impossible to find all determinants of $y$ and $y$ may be mismeasured), so you need to account for the discrepancies, and so we add a \"error term\" or \"disturbance\" denoted by $u$\n",
    "\n",
    "\\begin{align} \n",
    "y=a+\\beta x+u\n",
    "\\end{align} \n",
    "\n",
    "<!-- explain reasons the u term exists -->\n",
    "\n",
    "Now, we want to estimate $a$ and $\\beta$ to best \"fit\" the data. Imagine you pick/estimate $\\hat{a}$ and $\\hat{\\beta}$  to fit the data. If you apply that to all the X data points like $\\hat{a} + \\hat{\\beta}x$ , then you get a **predicted value for $y$**:\n",
    "\n",
    "\\begin{align} \n",
    "\\hat{y} = \\hat{a} + \\hat{\\beta}x\n",
    "\\end{align} \n",
    "\n",
    "We call $\\hat{y}$ the \"fitted values\" or the \"predicted values\" of y. And the difference between each actual $y$ and the predicted $\\hat{y}$ is called the **residual** or **error**:\n",
    "\n",
    "\\begin{align} \n",
    "y-\\hat{y} = \\hat{u} = \\text{\"residual\" aka \"error\"}\n",
    "\\end{align} \n",
    "\n",
    "The goal of estimation (any estimation, including regression) is to make these errors as \"small\" as possible. Regression is aka'ed as \"Ordinary Least Squares\" which as it sounds, takes those errors, squares them, adds those up, and minimizes the sum\n",
    "\n",
    "\\begin{align} \n",
    "   \\min & \\sum(y-\\hat{y})^2 \n",
    " = \\min & \\sum(y-\\hat{a} + \\hat{\\beta}x) \n",
    "\\end{align} \n",
    "\n",
    "So, to combine this with the \"Modeling Intro\" lecture, regression follows the same steps as any estimation:\n",
    "1. Select a model. _In a regression, the model is a line (if you only have 1 X variable) or a hyperplane (if you have many X variables).)\n",
    "2. Select a loss function. _In a regression, it's the sum of squared errors._\n",
    "3. Minimize the loss. _You can solve for the minimum analytically (take the derivative, ...) or numerically (gradient descent). Our python packages below handle this for you._\n"
   ]
  },
  {
   "cell_type": "markdown",
   "metadata": {},
   "source": [
    "### Running regressions - codebook\n",
    "\n",
    "- 3 ways to fit a regression\n",
    "- Which ever you choose, you need to be able to extract the coefficients, t-stats, R2, AR2, residuals, and predicted values.\n",
    "\n",
    "Let's get our hands dirty quickly by loading data... and do a demo on diamonds\n",
    "\n",
    "![](https://media.giphy.com/media/piXrzDejeWIM/giphy.gif)\n"
   ]
  },
  {
   "cell_type": "code",
   "execution_count": 1,
   "metadata": {},
   "outputs": [],
   "source": [
    "# load some data to practice regressions\n",
    "import seaborn as sns\n",
    "import numpy as np\n",
    "diamonds = sns.load_dataset('diamonds')\n",
    "\n",
    "# this alteration is not strictly necessary to practice a regression\n",
    "# but we use this in livecoding\n",
    "diamonds2 = (diamonds.query('carat < 2.5')               # censor/remove outliers\n",
    "            .assign(lprice = np.log(diamonds['price']))  # log transform price\n",
    "            .assign(lcarat = np.log(diamonds['carat']))  # log transform carats\n",
    "            .assign(ideal = diamonds['cut'] == 'Ideal') \n",
    "             \n",
    "             # some regression packages want you to explicitly provide \n",
    "             # a variable for the constant\n",
    "            .assign(const = 1)                           \n",
    "            )  \n"
   ]
  },
  {
   "cell_type": "markdown",
   "metadata": {},
   "source": [
    "We will cover examples with `statsmodels` and `sklearn`.\n",
    "- I prefer `statsmodels` when I want to look at tables of results and find specifying the model easier sometimes\n",
    "- I prefer `sklearn` when I'm using regression within a prediction/ML exercise because `sklearn` has nice tools to construct \"training\" and \"testing\" samples\n",
    "\n",
    "#### Regression method 1:  `statsmodels.api`:"
   ]
  },
  {
   "cell_type": "code",
   "execution_count": 2,
   "metadata": {},
   "outputs": [
    {
     "name": "stdout",
     "output_type": "stream",
     "text": [
      "                            OLS Regression Results                            \n",
      "==============================================================================\n",
      "Dep. Variable:                 lprice   R-squared:                       0.933\n",
      "Model:                            OLS   Adj. R-squared:                  0.933\n",
      "Method:                 Least Squares   F-statistic:                 7.542e+05\n",
      "Date:                Tue, 24 Mar 2020   Prob (F-statistic):               0.00\n",
      "Time:                        19:22:30   Log-Likelihood:                -4073.2\n",
      "No. Observations:               53797   AIC:                             8150.\n",
      "Df Residuals:                   53795   BIC:                             8168.\n",
      "Df Model:                           1                                         \n",
      "Covariance Type:            nonrobust                                         \n",
      "==============================================================================\n",
      "                 coef    std err          t      P>|t|      [0.025      0.975]\n",
      "------------------------------------------------------------------------------\n",
      "const          8.4525      0.001   6193.432      0.000       8.450       8.455\n",
      "lcarat         1.6819      0.002    868.465      0.000       1.678       1.686\n",
      "==============================================================================\n",
      "Omnibus:                      775.052   Durbin-Watson:                   1.211\n",
      "Prob(Omnibus):                  0.000   Jarque-Bera (JB):             1334.265\n",
      "Skew:                           0.106   Prob(JB):                    1.85e-290\n",
      "Kurtosis:                       3.742   Cond. No.                         2.10\n",
      "==============================================================================\n",
      "\n",
      "Warnings:\n",
      "[1] Standard Errors assume that the covariance matrix of the errors is correctly specified.\n"
     ]
    }
   ],
   "source": [
    "import statsmodels.api as sm  \n",
    "\n",
    "y = diamonds2['lprice']\n",
    "X = diamonds2[['const','lcarat']]\n",
    "\n",
    "model1 = sm.OLS(y,X)                # pick model type and specify model features\n",
    "results1 = model1.fit()             # estimate / fit\n",
    "print(results1.summary())           # view results \n",
    "y_predicted1 = results1.predict()   # get the predicted results\n",
    "residuals1 = results1.resid         # get the residuals\n",
    "#residuals1 = y - y_predicted1      # another way to get the residuals\n"
   ]
  },
  {
   "cell_type": "markdown",
   "metadata": {},
   "source": [
    "#### Regression method 2:  `statsmodels.formula.api`:\n",
    "\n",
    "I like this because you can write the equation out more naturally, and it allows you to easily include categorical variables. [See here](https://stackoverflow.com/questions/50733014/linear-regression-with-dummy-categorical-variables) for an example of that."
   ]
  },
  {
   "cell_type": "code",
   "execution_count": 3,
   "metadata": {
    "tags": [
     "remove_output"
    ]
   },
   "outputs": [
    {
     "name": "stdout",
     "output_type": "stream",
     "text": [
      "                            OLS Regression Results                            \n",
      "==============================================================================\n",
      "Dep. Variable:                 lprice   R-squared:                       0.933\n",
      "Model:                            OLS   Adj. R-squared:                  0.933\n",
      "Method:                 Least Squares   F-statistic:                 7.542e+05\n",
      "Date:                Tue, 24 Mar 2020   Prob (F-statistic):               0.00\n",
      "Time:                        19:22:30   Log-Likelihood:                -4073.2\n",
      "No. Observations:               53797   AIC:                             8150.\n",
      "Df Residuals:                   53795   BIC:                             8168.\n",
      "Df Model:                           1                                         \n",
      "Covariance Type:            nonrobust                                         \n",
      "==============================================================================\n",
      "                 coef    std err          t      P>|t|      [0.025      0.975]\n",
      "------------------------------------------------------------------------------\n",
      "Intercept      8.4525      0.001   6193.432      0.000       8.450       8.455\n",
      "lcarat         1.6819      0.002    868.465      0.000       1.678       1.686\n",
      "==============================================================================\n",
      "Omnibus:                      775.052   Durbin-Watson:                   1.211\n",
      "Prob(Omnibus):                  0.000   Jarque-Bera (JB):             1334.265\n",
      "Skew:                           0.106   Prob(JB):                    1.85e-290\n",
      "Kurtosis:                       3.742   Cond. No.                         2.10\n",
      "==============================================================================\n",
      "\n",
      "Warnings:\n",
      "[1] Standard Errors assume that the covariance matrix of the errors is correctly specified.\n"
     ]
    }
   ],
   "source": [
    "from statsmodels.formula.api import ols as sm_ols\n",
    "\n",
    "model2   = sm_ols('lprice ~ lcarat',  # specify model (you don't need to include the constant!)\n",
    "                  data=diamonds2)\n",
    "results2 = model2.fit()               # estimate / fit\n",
    "print(results2.summary())             # view results ... identical to before\n",
    "\n",
    "# the prediction and residual and plotting are the exact same\n"
   ]
  },
  {
   "cell_type": "markdown",
   "metadata": {},
   "source": [
    "#### Regression method 3:  `sklearn`:\n",
    "\n",
    "`sklearn` is pretty similar but it doesn't have the nice summary tables:"
   ]
  },
  {
   "cell_type": "code",
   "execution_count": 4,
   "metadata": {},
   "outputs": [
    {
     "name": "stdout",
     "output_type": "stream",
     "text": [
      "INTERCEPT: 8.452511832951718\n",
      "COEFS: [0.         1.68193567]\n"
     ]
    }
   ],
   "source": [
    "from sklearn.linear_model import LinearRegression\n",
    "\n",
    "model3 = LinearRegression()         \n",
    "results3 = model3.fit(X,y)\n",
    "print('INTERCEPT:', results3.intercept_)  # yuck, definitely uglier\n",
    "print('COEFS:', results3.coef_) \n",
    "\n",
    "# the fitted predictions/residuals are just a little diff\n",
    "y_predicted3 = results3.predict(X) \n",
    "residuals3 = y - y_predicted3\n"
   ]
  },
  {
   "cell_type": "markdown",
   "metadata": {},
   "source": [
    "That's so much uglier. Why use `sklearn`? \n",
    "\n",
    "Because `sklearn` is the go-to for training models using more sophisticated ML ideas (which we will talk about some later in the course!). Two nice walkthroughs:\n",
    "- [This guide from the PythonDataScienceHandbook](https://jakevdp.github.io/PythonDataScienceHandbook/05.06-linear-regression.html) (you can use different data though)\n",
    "- The \"Linear Regression\" section [here](https://becominghuman.ai/linear-regression-in-python-with-pandas-scikit-learn-72574a2ec1a5) shows how you can run regressions on training samples and test them out of sample\n"
   ]
  },
  {
   "cell_type": "markdown",
   "metadata": {},
   "source": [
    "### Plotting the regression fit \n",
    "\n",
    "This works with all of the above methods easily."
   ]
  },
  {
   "cell_type": "code",
   "execution_count": 5,
   "metadata": {},
   "outputs": [
    {
     "data": {
      "image/png": "[encoded data removed]",
      "text/plain": [
       "<Figure size 432x288 with 1 Axes>"
      ]
     },
     "metadata": {
      "needs_background": "light"
     },
     "output_type": "display_data"
    },
    {
     "data": {
      "text/plain": [
       "Text(0.5, 1.0, 'Which is the same fit sns will give')"
      ]
     },
     "execution_count": 5,
     "metadata": {},
     "output_type": "execute_result"
    },
    {
     "data": {
      "image/png": "[encoded data removed]",
      "text/plain": [
       "<Figure size 432x288 with 1 Axes>"
      ]
     },
     "metadata": {
      "needs_background": "light"
     },
     "output_type": "display_data"
    }
   ],
   "source": [
    "import matplotlib.pyplot as plt\n",
    "\n",
    "# let's plot our data with the OLS predicted fit\n",
    "sns.scatterplot(x='lcarat',y='lprice',data=diamonds2.sample(1000)) # sampled just to avoid overplotting\n",
    "sns.lineplot(x=diamonds2['lcarat'],y=y_predicted1,color='red')\n",
    "\n",
    "# compare this to the built-in sns produces\n",
    "plt.show()\n",
    "sns.regplot(x='lcarat',y='lprice',data=diamonds2.sample(1000),\n",
    "            line_kws={'color':'red'}).set_title(\"Which is the same fit sns will give\")"
   ]
  },
  {
   "cell_type": "markdown",
   "metadata": {},
   "source": [
    "### Example: Including dummy variables\n",
    "\n",
    "Suppose you started by estimating the price of diamonds as a function of carats\n",
    "\n",
    "\\begin{align} \n",
    "\\log(\\text{price})=a+\\beta_0 \\log(\\text{carat}) +u\n",
    "\\end{align} \n",
    "\n",
    "but you realize it will be different for ideal cut diamonds. That is, a 1 carat diamond might cost $1,000, but if it's ideal, it's an extra $500 dollars.\n",
    "\n",
    "\\begin{align} \n",
    "\\log(\\text{price})=\n",
    "    \\begin{cases}\n",
    "      a+\\beta_0 \\log(\\text{carat}) + \\beta_1 +u, & \\text{if ideal cut}  \\\\\n",
    "      a+\\beta_0 \\log(\\text{carat}) +u, & \\text{otherwise}\n",
    "    \\end{cases} \n",
    "\\end{align} \n",
    "\n",
    "Notice that $\\beta_0$ in this model are the same. Here is how you run this test:"
   ]
  },
  {
   "cell_type": "code",
   "execution_count": 6,
   "metadata": {},
   "outputs": [
    {
     "name": "stdout",
     "output_type": "stream",
     "text": [
      "                            OLS Regression Results                            \n",
      "==============================================================================\n",
      "Dep. Variable:                 lprice   R-squared:                       0.936\n",
      "Model:                            OLS   Adj. R-squared:                  0.936\n",
      "Method:                 Least Squares   F-statistic:                 3.914e+05\n",
      "Date:                Tue, 24 Mar 2020   Prob (F-statistic):               0.00\n",
      "Time:                        19:22:33   Log-Likelihood:                -3136.4\n",
      "No. Observations:               53797   AIC:                             6279.\n",
      "Df Residuals:                   53794   BIC:                             6306.\n",
      "Df Model:                           2                                         \n",
      "Covariance Type:            nonrobust                                         \n",
      "=================================================================================\n",
      "                    coef    std err          t      P>|t|      [0.025      0.975]\n",
      "---------------------------------------------------------------------------------\n",
      "Intercept         8.4182      0.002   5415.779      0.000       8.415       8.421\n",
      "ideal[T.True]     0.1000      0.002     43.662      0.000       0.096       0.105\n",
      "lcarat            1.6963      0.002    878.286      0.000       1.692       1.700\n",
      "==============================================================================\n",
      "Omnibus:                      794.680   Durbin-Watson:                   1.241\n",
      "Prob(Omnibus):                  0.000   Jarque-Bera (JB):             1394.941\n",
      "Skew:                           0.101   Prob(JB):                    1.24e-303\n",
      "Kurtosis:                       3.763   Cond. No.                         2.67\n",
      "==============================================================================\n",
      "\n",
      "Warnings:\n",
      "[1] Standard Errors assume that the covariance matrix of the errors is correctly specified.\n"
     ]
    }
   ],
   "source": [
    "# ideal is a dummy variable = 1 if ideal and 0 if not ideal\n",
    "model_ideal   = sm_ols('lprice ~ lcarat + ideal', data=diamonds2)\n",
    "results_ideal = model_ideal.fit()               # estimate / fit\n",
    "print(results_ideal.summary())             # view results \n"
   ]
  },
  {
   "cell_type": "markdown",
   "metadata": {},
   "source": [
    "### Example: Including categorical variables\n",
    "\n",
    "Method 2 also processes categorical variables easily!"
   ]
  },
  {
   "cell_type": "code",
   "execution_count": 7,
   "metadata": {},
   "outputs": [
    {
     "data": {
      "text/html": [
       "<table class=\"simpletable\">\n",
       "<caption>OLS Regression Results</caption>\n",
       "<tr>\n",
       "  <th>Dep. Variable:</th>         <td>lprice</td>      <th>  R-squared:         </th> <td>   0.018</td> \n",
       "</tr>\n",
       "<tr>\n",
       "  <th>Model:</th>                   <td>OLS</td>       <th>  Adj. R-squared:    </th> <td>   0.017</td> \n",
       "</tr>\n",
       "<tr>\n",
       "  <th>Method:</th>             <td>Least Squares</td>  <th>  F-statistic:       </th> <td>   239.6</td> \n",
       "</tr>\n",
       "<tr>\n",
       "  <th>Date:</th>             <td>Tue, 24 Mar 2020</td> <th>  Prob (F-statistic):</th> <td>2.66e-204</td>\n",
       "</tr>\n",
       "<tr>\n",
       "  <th>Time:</th>                 <td>19:22:34</td>     <th>  Log-Likelihood:    </th> <td> -76477.</td> \n",
       "</tr>\n",
       "<tr>\n",
       "  <th>No. Observations:</th>      <td> 53797</td>      <th>  AIC:               </th> <td>1.530e+05</td>\n",
       "</tr>\n",
       "<tr>\n",
       "  <th>Df Residuals:</th>          <td> 53792</td>      <th>  BIC:               </th> <td>1.530e+05</td>\n",
       "</tr>\n",
       "<tr>\n",
       "  <th>Df Model:</th>              <td>     4</td>      <th>                     </th>     <td> </td>    \n",
       "</tr>\n",
       "<tr>\n",
       "  <th>Covariance Type:</th>      <td>nonrobust</td>    <th>                     </th>     <td> </td>    \n",
       "</tr>\n",
       "</table>\n",
       "<table class=\"simpletable\">\n",
       "<tr>\n",
       "          <td></td>            <th>coef</th>     <th>std err</th>      <th>t</th>      <th>P>|t|</th>  <th>[0.025</th>    <th>0.975]</th>  \n",
       "</tr>\n",
       "<tr>\n",
       "  <th>Intercept</th>        <td>    8.0688</td> <td>    0.025</td> <td>  320.067</td> <td> 0.000</td> <td>    8.019</td> <td>    8.118</td>\n",
       "</tr>\n",
       "<tr>\n",
       "  <th>cut[T.Good]</th>      <td>   -0.2328</td> <td>    0.029</td> <td>   -8.025</td> <td> 0.000</td> <td>   -0.290</td> <td>   -0.176</td>\n",
       "</tr>\n",
       "<tr>\n",
       "  <th>cut[T.Ideal]</th>     <td>   -0.4319</td> <td>    0.026</td> <td>  -16.536</td> <td> 0.000</td> <td>   -0.483</td> <td>   -0.381</td>\n",
       "</tr>\n",
       "<tr>\n",
       "  <th>cut[T.Premium]</th>   <td>   -0.1241</td> <td>    0.027</td> <td>   -4.663</td> <td> 0.000</td> <td>   -0.176</td> <td>   -0.072</td>\n",
       "</tr>\n",
       "<tr>\n",
       "  <th>cut[T.Very Good]</th> <td>   -0.2732</td> <td>    0.027</td> <td>  -10.188</td> <td> 0.000</td> <td>   -0.326</td> <td>   -0.221</td>\n",
       "</tr>\n",
       "</table>\n",
       "<table class=\"simpletable\">\n",
       "<tr>\n",
       "  <th>Omnibus:</th>       <td>14708.225</td> <th>  Durbin-Watson:     </th> <td>   0.049</td>\n",
       "</tr>\n",
       "<tr>\n",
       "  <th>Prob(Omnibus):</th>  <td> 0.000</td>   <th>  Jarque-Bera (JB):  </th> <td>2503.627</td>\n",
       "</tr>\n",
       "<tr>\n",
       "  <th>Skew:</th>           <td> 0.118</td>   <th>  Prob(JB):          </th> <td>    0.00</td>\n",
       "</tr>\n",
       "<tr>\n",
       "  <th>Kurtosis:</th>       <td> 1.970</td>   <th>  Cond. No.          </th> <td>    15.0</td>\n",
       "</tr>\n",
       "</table><br/><br/>Warnings:<br/>[1] Standard Errors assume that the covariance matrix of the errors is correctly specified."
      ],
      "text/plain": [
       "<class 'statsmodels.iolib.summary.Summary'>\n",
       "\"\"\"\n",
       "                            OLS Regression Results                            \n",
       "==============================================================================\n",
       "Dep. Variable:                 lprice   R-squared:                       0.018\n",
       "Model:                            OLS   Adj. R-squared:                  0.017\n",
       "Method:                 Least Squares   F-statistic:                     239.6\n",
       "Date:                Tue, 24 Mar 2020   Prob (F-statistic):          2.66e-204\n",
       "Time:                        19:22:34   Log-Likelihood:                -76477.\n",
       "No. Observations:               53797   AIC:                         1.530e+05\n",
       "Df Residuals:                   53792   BIC:                         1.530e+05\n",
       "Df Model:                           4                                         \n",
       "Covariance Type:            nonrobust                                         \n",
       "====================================================================================\n",
       "                       coef    std err          t      P>|t|      [0.025      0.975]\n",
       "------------------------------------------------------------------------------------\n",
       "Intercept            8.0688      0.025    320.067      0.000       8.019       8.118\n",
       "cut[T.Good]         -0.2328      0.029     -8.025      0.000      -0.290      -0.176\n",
       "cut[T.Ideal]        -0.4319      0.026    -16.536      0.000      -0.483      -0.381\n",
       "cut[T.Premium]      -0.1241      0.027     -4.663      0.000      -0.176      -0.072\n",
       "cut[T.Very Good]    -0.2732      0.027    -10.188      0.000      -0.326      -0.221\n",
       "==============================================================================\n",
       "Omnibus:                    14708.225   Durbin-Watson:                   0.049\n",
       "Prob(Omnibus):                  0.000   Jarque-Bera (JB):             2503.627\n",
       "Skew:                           0.118   Prob(JB):                         0.00\n",
       "Kurtosis:                       1.970   Cond. No.                         15.0\n",
       "==============================================================================\n",
       "\n",
       "Warnings:\n",
       "[1] Standard Errors assume that the covariance matrix of the errors is correctly specified.\n",
       "\"\"\""
      ]
     },
     "execution_count": 7,
     "metadata": {},
     "output_type": "execute_result"
    }
   ],
   "source": [
    "sm_ols('lprice ~ cut', data=diamonds2).fit().summary()\n"
   ]
  },
  {
   "cell_type": "markdown",
   "metadata": {},
   "source": [
    "## Mechanical interpretation of regression coefficients\n",
    "\n",
    "### If X is a continuous variable \n",
    "\n",
    "| If the model is.................. | then $\\beta$ means |\n",
    "| :--- | :--- |\n",
    "| $y=a+\\beta X$ | If $X \\uparrow $ 1 unit, then $y \\uparrow$ by $\\beta$ units  |\n",
    "| $\\log y=a+\\beta X$ | If $X \\uparrow $ 1 unit, then $y \\uparrow$ by about $\\beta$%  |\n",
    "| $y=a+\\beta \\log X$ | If $X \\uparrow $ 1%, then $y \\uparrow$ by $\\beta$ units  |\n",
    "| $\\log y=a+\\beta \\log X$ | If $X \\uparrow $ 1%, then $y \\uparrow$ by $\\beta$%  |\n",
    "\n",
    "### If X is a binary variable\n",
    "\n",
    "This is a categorical or qualitative variable with two values (aka \"dummy\"). E.g. gender in Census data, and `\"ideal\"` above.\n",
    "\n",
    "| If the model is.................. | then $\\beta$ means |\n",
    "| :--- | :--- |\n",
    "| $y=a+\\beta X$ | $y$ is $\\beta$ units higher for cases when $X=1$ than when $X=0$. |\n",
    "| $\\log y=a+\\beta X$ | $y$ is about $\\beta$ % higher for cases when $X=1$ than when $X=0$. |"
   ]
  },
  {
   "cell_type": "markdown",
   "metadata": {},
   "source": [
    "### If X is a categorical variable\n",
    "\n",
    "This is a categorical or qualitative variable with more than two values. E.g. `\"cut\"` in the diamonds dataset. In a regression, this ends up looking like\n",
    "\n",
    "\\begin{align} \n",
    "\\log(\\text{price})=\n",
    "    \\begin{cases}\n",
    "      a, & \\text{if cut is fair} \\\\\n",
    "      a +\\beta_{Good}, & \\text{if cut is Good} \\\\\n",
    "      a +\\beta_{Very Good}, & \\text{if cut is Very Good} \\\\\n",
    "      a +\\beta_{Premium}, & \\text{if cut is Premium} \\\\\n",
    "      a +\\beta_{Ideal}, & \\text{if cut is Ideal} \n",
    "          \\end{cases} \n",
    "\\end{align} \n",
    "\n",
    "So you do is take the cut variable `cut={Fair,Good,Very Good,Premium,Ideal}` and turn it into a dummy variable for \"Good\", a dummy variable for \"Very Good\", and so on. \n",
    "\n",
    "**Warning: You don't create a dummy variable for all the categories! That's why I skipped \"Fair\" in the prior paragraph.**\n",
    "\n",
    "Then...\n",
    "\n",
    "| $\\beta$..... | means | or |\n",
    "| :--- | :--- | :--- |\n",
    "| $\\beta_{Good}$ | The average log(price) for Good diamonds is $\\beta_{Good}$ higher than Fair diamonds. | $avg_{Good}-avg_{Fair}$ |\n",
    "| $\\beta_{Very Good}$ | The average log(price) for Good diamonds is $\\beta_{Very Good}$ higher than Fair diamonds. | $avg_{Very Good}-avg_{Fair}$ |\n",
    "| $\\beta_{Premium}$ | The average log(price) for Good diamonds is $\\beta_{Premium}$ higher than Fair diamonds. | $avg_{Premium}-avg_{Fair}$ |\n",
    "| $\\beta_{Ideal}$ | The average log(price) for Good diamonds is $\\beta_{Ideal}$ higher than Fair diamonds. | $avg_{Ideal}-avg_{Fair}$ |\n",
    "\n",
    "**THE MAIN THING TO REMEMBER IS THAT $\\beta_{value}$ COMPARES THAT $value$ TO THE _OMITTED_ CATEGORY!**\n",
    "\n",
    "So, compare the regression above which reports that $a$ (intercept) = 8.0688 and $\\beta_{Good}$ equals -0.2328 to this:"
   ]
  },
  {
   "cell_type": "code",
   "execution_count": 8,
   "metadata": {},
   "outputs": [
    {
     "data": {
      "text/plain": [
       "cut\n",
       "Fair         8.068832\n",
       "Good         7.836076\n",
       "Ideal        7.636921\n",
       "Premium      7.944690\n",
       "Very Good    7.795675\n",
       "Name: lprice, dtype: float64"
      ]
     },
     "execution_count": 8,
     "metadata": {},
     "output_type": "execute_result"
    }
   ],
   "source": [
    "diamonds2.groupby('cut')['lprice'].mean() # avg lprice by cut"
   ]
  },
  {
   "cell_type": "markdown",
   "metadata": {},
   "source": [
    "8.0688 + (-0.2328) = 7.8360!!!\n",
    "\n",
    "The nice part of `sm` is that it automatically \"creates\" the dummy variables and omits a value for you!"
   ]
  },
  {
   "cell_type": "markdown",
   "metadata": {},
   "source": [
    "### Interpreting with multiple variables (THE WOES THEREOF)\n",
    "\n",
    "If you have multiple (up to N controls):\n",
    "\n",
    "\\begin{align}\n",
    "y = a +\\beta_0 X_0 + \\beta_1 X_1+ ...+\\beta_N X_N+ u\n",
    "\\end{align}\n",
    "\n",
    "- $\\beta_1$ estimates the expected change in Y for a 1 unit increase in $X_1$ (as we covered above).\n",
    "- But predictors usually change together!!!\n",
    "- If Y = number of tackles by a football player in a year, $W$ is weight, and $H$ is height, and we estimate that\n",
    "\n",
    "    \\begin{align}\n",
    "    y = a +\\hat{0.5} W + \\hat{-0.1} H\n",
    "    \\end{align}\n",
    "    \n",
    "    How do you interpret $\\hat{\\beta_1} < 0 $ on H?\n",
    "\n",
    "If categorical variables are included (e.g. year or industry), when thinking about the OTHER variables, you can think \n",
    "    - \"comparing same firms within the same year...\" \n",
    "    - \"comparing firms in the same industry, controlling for industry factors...\"\n"
   ]
  },
  {
   "cell_type": "markdown",
   "metadata": {},
   "source": [
    "### Extensions to the model: Interactions\n",
    "\n",
    "Suppose that an ideal cut diamond doesn't just add a fixed dollar value to the diamond. Perhaps it also changes the value of having a larger diamond. You might says that \n",
    "- \"the cut **interacts** with carat\"\n",
    "- \"a better cut changes the slope/coefficient carat\" which can be rephrased as\n",
    "- \"a better cut changes the return on a larger carat\"\n",
    "\n",
    "Graphically, it's easy to see, as `sns.lmplot` by default gives each `hue` a unique slope:"
   ]
  },
  {
   "cell_type": "code",
   "execution_count": 9,
   "metadata": {},
   "outputs": [
    {
     "data": {
      "text/plain": [
       "<seaborn.axisgrid.FacetGrid at 0x1d90e51f9c8>"
      ]
     },
     "execution_count": 9,
     "metadata": {},
     "output_type": "execute_result"
    },
    {
     "data": {
      "image/png": "[encoded data removed]",
      "text/plain": [
       "<Figure size 420.375x360 with 1 Axes>"
      ]
     },
     "metadata": {
      "needs_background": "light"
     },
     "output_type": "display_data"
    }
   ],
   "source": [
    "subsample_of_equal_amounts = diamonds2.query('cut in [\"Ideal\",\"Fair\"]').groupby('cut').apply(lambda x: x.sample(400))\n",
    "sns.lmplot(data=subsample_of_equal_amounts,\n",
    "           y='lprice',x='lcarat',hue='cut',ci=None) "
   ]
  },
  {
   "cell_type": "markdown",
   "metadata": {},
   "source": [
    "Those two different lines above are estimated by\n",
    "\n",
    "\\begin{align} \n",
    "\\log(\\text{price})= a+ \\beta_0 \\log(\\text{carat}) + \\beta_1 \\text{Ideal} + \\beta_2\\log(\\text{carat})\\cdot \\text{Ideal}\n",
    "\\end{align}\n",
    "\n",
    "If you plug in 1 for $ideal$, you get the line for ideal diamonds as\n",
    "\n",
    "\\begin{align} \n",
    "\\log(\\text{price})= a+ \\beta_1 +(\\beta_0 + \\beta_2) \\log(\\text{carat}) \n",
    "\\end{align}\n",
    "\n",
    "If you plug in 0 for $ideal$, you get the line for fair diamonds as\n",
    "\n",
    "\\begin{align} \n",
    "\\log(\\text{price})= a+ \\beta_0 \\log(\\text{carat}) \n",
    "\\end{align}\n",
    "\n",
    "So, by including that interaction term, you get that the slope on carats is different for Ideal than Fair diamonds.\n",
    "\n",
    "`sm` will estimate that nicely:"
   ]
  },
  {
   "cell_type": "code",
   "execution_count": 10,
   "metadata": {},
   "outputs": [
    {
     "data": {
      "text/html": [
       "<table class=\"simpletable\">\n",
       "<caption>OLS Regression Results</caption>\n",
       "<tr>\n",
       "  <th>Dep. Variable:</th>         <td>lprice</td>      <th>  R-squared:         </th> <td>   0.900</td>\n",
       "</tr>\n",
       "<tr>\n",
       "  <th>Model:</th>                   <td>OLS</td>       <th>  Adj. R-squared:    </th> <td>   0.899</td>\n",
       "</tr>\n",
       "<tr>\n",
       "  <th>Method:</th>             <td>Least Squares</td>  <th>  F-statistic:       </th> <td>   2378.</td>\n",
       "</tr>\n",
       "<tr>\n",
       "  <th>Date:</th>             <td>Tue, 24 Mar 2020</td> <th>  Prob (F-statistic):</th>  <td>  0.00</td> \n",
       "</tr>\n",
       "<tr>\n",
       "  <th>Time:</th>                 <td>19:22:34</td>     <th>  Log-Likelihood:    </th> <td> -148.45</td>\n",
       "</tr>\n",
       "<tr>\n",
       "  <th>No. Observations:</th>      <td>   800</td>      <th>  AIC:               </th> <td>   304.9</td>\n",
       "</tr>\n",
       "<tr>\n",
       "  <th>Df Residuals:</th>          <td>   796</td>      <th>  BIC:               </th> <td>   323.6</td>\n",
       "</tr>\n",
       "<tr>\n",
       "  <th>Df Model:</th>              <td>     3</td>      <th>                     </th>     <td> </td>   \n",
       "</tr>\n",
       "<tr>\n",
       "  <th>Covariance Type:</th>      <td>nonrobust</td>    <th>                     </th>     <td> </td>   \n",
       "</tr>\n",
       "</table>\n",
       "<table class=\"simpletable\">\n",
       "<tr>\n",
       "            <td></td>              <th>coef</th>     <th>std err</th>      <th>t</th>      <th>P>|t|</th>  <th>[0.025</th>    <th>0.975]</th>  \n",
       "</tr>\n",
       "<tr>\n",
       "  <th>Intercept</th>            <td>    8.1812</td> <td>    0.015</td> <td>  546.823</td> <td> 0.000</td> <td>    8.152</td> <td>    8.211</td>\n",
       "</tr>\n",
       "<tr>\n",
       "  <th>ideal[T.True]</th>        <td>    0.3488</td> <td>    0.025</td> <td>   13.904</td> <td> 0.000</td> <td>    0.300</td> <td>    0.398</td>\n",
       "</tr>\n",
       "<tr>\n",
       "  <th>lcarat</th>               <td>    1.4810</td> <td>    0.032</td> <td>   46.542</td> <td> 0.000</td> <td>    1.419</td> <td>    1.543</td>\n",
       "</tr>\n",
       "<tr>\n",
       "  <th>lcarat:ideal[T.True]</th> <td>    0.2661</td> <td>    0.041</td> <td>    6.479</td> <td> 0.000</td> <td>    0.185</td> <td>    0.347</td>\n",
       "</tr>\n",
       "</table>\n",
       "<table class=\"simpletable\">\n",
       "<tr>\n",
       "  <th>Omnibus:</th>       <td>10.238</td> <th>  Durbin-Watson:     </th> <td>   1.966</td>\n",
       "</tr>\n",
       "<tr>\n",
       "  <th>Prob(Omnibus):</th> <td> 0.006</td> <th>  Jarque-Bera (JB):  </th> <td>  15.981</td>\n",
       "</tr>\n",
       "<tr>\n",
       "  <th>Skew:</th>          <td>-0.026</td> <th>  Prob(JB):          </th> <td>0.000339</td>\n",
       "</tr>\n",
       "<tr>\n",
       "  <th>Kurtosis:</th>      <td> 3.690</td> <th>  Cond. No.          </th> <td>    6.22</td>\n",
       "</tr>\n",
       "</table><br/><br/>Warnings:<br/>[1] Standard Errors assume that the covariance matrix of the errors is correctly specified."
      ],
      "text/plain": [
       "<class 'statsmodels.iolib.summary.Summary'>\n",
       "\"\"\"\n",
       "                            OLS Regression Results                            \n",
       "==============================================================================\n",
       "Dep. Variable:                 lprice   R-squared:                       0.900\n",
       "Model:                            OLS   Adj. R-squared:                  0.899\n",
       "Method:                 Least Squares   F-statistic:                     2378.\n",
       "Date:                Tue, 24 Mar 2020   Prob (F-statistic):               0.00\n",
       "Time:                        19:22:34   Log-Likelihood:                -148.45\n",
       "No. Observations:                 800   AIC:                             304.9\n",
       "Df Residuals:                     796   BIC:                             323.6\n",
       "Df Model:                           3                                         \n",
       "Covariance Type:            nonrobust                                         \n",
       "========================================================================================\n",
       "                           coef    std err          t      P>|t|      [0.025      0.975]\n",
       "----------------------------------------------------------------------------------------\n",
       "Intercept                8.1812      0.015    546.823      0.000       8.152       8.211\n",
       "ideal[T.True]            0.3488      0.025     13.904      0.000       0.300       0.398\n",
       "lcarat                   1.4810      0.032     46.542      0.000       1.419       1.543\n",
       "lcarat:ideal[T.True]     0.2661      0.041      6.479      0.000       0.185       0.347\n",
       "==============================================================================\n",
       "Omnibus:                       10.238   Durbin-Watson:                   1.966\n",
       "Prob(Omnibus):                  0.006   Jarque-Bera (JB):               15.981\n",
       "Skew:                          -0.026   Prob(JB):                     0.000339\n",
       "Kurtosis:                       3.690   Cond. No.                         6.22\n",
       "==============================================================================\n",
       "\n",
       "Warnings:\n",
       "[1] Standard Errors assume that the covariance matrix of the errors is correctly specified.\n",
       "\"\"\""
      ]
     },
     "execution_count": 10,
     "metadata": {},
     "output_type": "execute_result"
    }
   ],
   "source": [
    "sm_ols('lprice ~ lcarat + ideal + lcarat*ideal', data=subsample_of_equal_amounts).fit().summary()\n"
   ]
  },
  {
   "cell_type": "markdown",
   "metadata": {},
   "source": [
    "This shows that a 1% increase in carats is associated with a 1.47% increase in price for fair diamonds, but a 1.78% increase for ideal diamonds (1.47+0.28).\n",
    "\n",
    "Thus: The return on carats is different (and higher) for better cut diamonds!"
   ]
  },
  {
   "cell_type": "markdown",
   "metadata": {},
   "source": [
    "\n",
    "![](https://media.giphy.com/media/nwyqBwP65XCAU/giphy.gif)\n",
    "\n",
    "### Reading / practice for this topic\n",
    "\n",
    "1. This page!\n",
    "1. [Chapters 22-24 of R 4 Data Science](https://r4ds.had.co.nz/model-intro.html) are an excellent overview of the thought process of modeling\n",
    "2. Use `statsmodels.api` to make nice regression tables by [following this guide](https://python.quantecon.org/ols.html) (you can use different data though)\n",
    "1. Load the titanic dataset from `sns` and try some regressions.\n"
   ]
  },
  {
   "cell_type": "markdown",
   "metadata": {},
   "source": [
    "## Acknowledgments \n",
    "- The demo on Diamonds is borrowed from [R4DS](https://r4ds.had.co.nz).\n",
    "- Alberto Rossi provided excellent lecture notes  "
   ]
  }
 ],
 "metadata": {
  "celltoolbar": "Tags",
  "kernelspec": {
   "display_name": "Python 3",
   "language": "python",
   "name": "python3"
  },
  "language_info": {
   "codemirror_mode": {
    "name": "ipython",
    "version": 3
   },
   "file_extension": ".py",
   "mimetype": "text/x-python",
   "name": "python",
   "nbconvert_exporter": "python",
   "pygments_lexer": "ipython3",
   "version": "3.7.6"
  }
 },
 "nbformat": 4,
 "nbformat_minor": 4
}
