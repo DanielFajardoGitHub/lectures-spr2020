{
 "cells": [
  {
   "cell_type": "code",
   "execution_count": null,
   "metadata": {},
   "outputs": [],
   "source": [
    "# !pip install wrds\n",
    "import numpy as np\n",
    "import pandas as pd\n",
    "import datetime as dt"
   ]
  },
  {
   "cell_type": "code",
   "execution_count": null,
   "metadata": {},
   "outputs": [],
   "source": [
    "import wrds\n",
    "db = wrds.Connection()"
   ]
  },
  {
   "cell_type": "code",
   "execution_count": null,
   "metadata": {},
   "outputs": [],
   "source": [
    "db.list_tables(library='crsp')"
   ]
  },
  {
   "cell_type": "code",
   "execution_count": null,
   "metadata": {},
   "outputs": [],
   "source": [
    "# the daily stock file doesn't have ticker (just permno and cusip) nor market\n",
    "# get list of permnos based on tickers of interest\n",
    "# print(db.get_table(library='crsp', table='ccmxpf_linktable', obs=10 ).columns)\n",
    "print(db.get_table(library='crsp', table='ccm_lookup', obs=10 ).columns)\n",
    "ccm_lookup = db.get_table(library='crsp', table='ccm_lookup')"
   ]
  },
  {
   "cell_type": "code",
   "execution_count": null,
   "metadata": {},
   "outputs": [],
   "source": [
    "sample_firms = (\n",
    "                ccm_lookup\n",
    "                    .query(\"tic in ['AAPL','MSFT','VZ','F'] & lpermno.notnull()\", engine='python') \n",
    "                    [['gvkey','lpermno','tic']].drop_duplicates()\n",
    "                )\n",
    "sample_firms"
   ]
  },
  {
   "cell_type": "code",
   "execution_count": null,
   "metadata": {},
   "outputs": [],
   "source": [
    "# get return data from daily stock file (DSF)\n",
    "crsp_ret = db.raw_sql('select permno,date,ret,prc,vol,shrout from crsp.dsf where permno in (14593, 65875, 25785, 10107);')\n"
   ]
  },
  {
   "cell_type": "code",
   "execution_count": null,
   "metadata": {},
   "outputs": [],
   "source": [
    "output_df = (crsp_ret \n",
    "     .merge(sample_firms, left_on='permno',right_on='lpermno') # add ticker for students \n",
    "     .drop('lpermno',axis=1)                                   # drop duplicative ID\n",
    "     .assign(date = pd.to_datetime(crsp_ret['date']))          # make \"date\" a datetime type\n",
    "     .query('date.dt.year >= 1990 & date.dt.year <= 2020')     # reduce to date range\n",
    ")\n",
    "output_df.to_stata('../3firm_ret_1990_2020.dta')"
   ]
  },
  {
   "cell_type": "code",
   "execution_count": null,
   "metadata": {},
   "outputs": [],
   "source": []
  },
  {
   "cell_type": "code",
   "execution_count": null,
   "metadata": {},
   "outputs": [],
   "source": []
  }
 ],
 "metadata": {
  "kernelspec": {
   "display_name": "Python 3",
   "language": "python",
   "name": "python3"
  },
  "language_info": {
   "codemirror_mode": {
    "name": "ipython",
    "version": 3
   },
   "file_extension": ".py",
   "mimetype": "text/x-python",
   "name": "python",
   "nbconvert_exporter": "python",
   "pygments_lexer": "ipython3",
   "version": "3.7.6"
  }
 },
 "nbformat": 4,
 "nbformat_minor": 2
}
